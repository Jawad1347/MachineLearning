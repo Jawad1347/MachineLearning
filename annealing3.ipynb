{
 "cells": [
  {
   "cell_type": "markdown",
   "metadata": {},
   "source": [
    "#### Pandas"
   ]
  },
  {
   "cell_type": "code",
   "execution_count": 1,
   "metadata": {},
   "outputs": [],
   "source": [
    "# Import dataset\n",
    "import pandas as pd\n",
    "# train = pd.read_csv(\"https://archive.ics.uci.edu/ml/machine-learning-databases/annealing/anneal.data\")\n",
    "# test = pd.read_csv(\"https://archive.ics.uci.edu/ml/machine-learning-databases/annealing/anneal.test\")\n",
    "train =pd.read_csv('anneal.data')\n",
    "test = pd.read_csv('anneal.test')"
   ]
  },
  {
   "cell_type": "markdown",
   "metadata": {},
   "source": [
    "#### This dataset has two parts so I imported both to work with and name them accordingly, as mentioned in the original file, which you can read if you follow the [link](https://archive.ics.uci.edu/ml/machine-learning-databases/annealing)"
   ]
  },
  {
   "cell_type": "code",
   "execution_count": 3,
   "metadata": {},
   "outputs": [
    {
     "name": "stdout",
     "output_type": "stream",
     "text": [
      "<class 'pandas.core.frame.DataFrame'>\n",
      "RangeIndex: 797 entries, 0 to 796\n",
      "Data columns (total 39 columns):\n",
      " #   Column  Non-Null Count  Dtype  \n",
      "---  ------  --------------  -----  \n",
      " 0   ?       797 non-null    object \n",
      " 1   C       797 non-null    object \n",
      " 2   A       797 non-null    object \n",
      " 3   08      797 non-null    int64  \n",
      " 4   00      797 non-null    int64  \n",
      " 5   ?.1     797 non-null    object \n",
      " 6   S       797 non-null    object \n",
      " 7   ?.2     797 non-null    object \n",
      " 8   000     797 non-null    int64  \n",
      " 9   ?.3     797 non-null    object \n",
      " 10  ?.4     797 non-null    object \n",
      " 11  G       797 non-null    object \n",
      " 12  ?.5     797 non-null    object \n",
      " 13  ?.6     797 non-null    object \n",
      " 14  ?.7     797 non-null    object \n",
      " 15  ?.8     797 non-null    object \n",
      " 16  ?.9     797 non-null    object \n",
      " 17  ?.10    797 non-null    object \n",
      " 18  ?.11    797 non-null    object \n",
      " 19  ?.12    797 non-null    object \n",
      " 20  ?.13    797 non-null    object \n",
      " 21  ?.14    797 non-null    object \n",
      " 22  ?.15    797 non-null    object \n",
      " 23  ?.16    797 non-null    object \n",
      " 24  ?.17    797 non-null    object \n",
      " 25  ?.18    797 non-null    object \n",
      " 26  ?.19    797 non-null    object \n",
      " 27  ?.20    797 non-null    object \n",
      " 28  ?.21    797 non-null    object \n",
      " 29  ?.22    797 non-null    object \n",
      " 30  ?.23    797 non-null    object \n",
      " 31  COIL    797 non-null    object \n",
      " 32  0.700   797 non-null    float64\n",
      " 33  0610.0  797 non-null    float64\n",
      " 34  0000    797 non-null    int64  \n",
      " 35  ?.24    797 non-null    object \n",
      " 36  0000.1  797 non-null    int64  \n",
      " 37  ?.25    797 non-null    object \n",
      " 38  3       797 non-null    object \n",
      "dtypes: float64(2), int64(5), object(32)\n",
      "memory usage: 243.0+ KB\n"
     ]
    }
   ],
   "source": [
    "train.info()"
   ]
  },
  {
   "cell_type": "markdown",
   "metadata": {},
   "source": [
    "#### This is a large dataset, with weird columns and 797 rows and yet there is not a single cell that has a missing value? It does not make sense, let's try to figure out what second part i.e. test data contains"
   ]
  },
  {
   "cell_type": "code",
   "execution_count": 4,
   "metadata": {},
   "outputs": [
    {
     "name": "stdout",
     "output_type": "stream",
     "text": [
      "<class 'pandas.core.frame.DataFrame'>\n",
      "RangeIndex: 99 entries, 0 to 98\n",
      "Data columns (total 39 columns):\n",
      " #   Column  Non-Null Count  Dtype  \n",
      "---  ------  --------------  -----  \n",
      " 0   ?       99 non-null     object \n",
      " 1   C       99 non-null     object \n",
      " 2   A       99 non-null     object \n",
      " 3   00      99 non-null     int64  \n",
      " 4   45      99 non-null     int64  \n",
      " 5   ?.1     99 non-null     object \n",
      " 6   S       99 non-null     object \n",
      " 7   ?.2     99 non-null     object \n",
      " 8   000     99 non-null     int64  \n",
      " 9   ?.3     99 non-null     object \n",
      " 10  ?.4     99 non-null     object \n",
      " 11  D       99 non-null     object \n",
      " 12  ?.5     99 non-null     object \n",
      " 13  ?.6     99 non-null     object \n",
      " 14  ?.7     99 non-null     object \n",
      " 15  ?.8     99 non-null     object \n",
      " 16  ?.9     99 non-null     object \n",
      " 17  ?.10    99 non-null     object \n",
      " 18  ?.11    99 non-null     object \n",
      " 19  ?.12    99 non-null     object \n",
      " 20  ?.13    99 non-null     object \n",
      " 21  ?.14    99 non-null     object \n",
      " 22  ?.15    99 non-null     object \n",
      " 23  ?.16    99 non-null     object \n",
      " 24  ?.17    99 non-null     object \n",
      " 25  ?.18    99 non-null     object \n",
      " 26  ?.19    99 non-null     object \n",
      " 27  ?.20    99 non-null     object \n",
      " 28  ?.21    99 non-null     object \n",
      " 29  ?.22    99 non-null     object \n",
      " 30  ?.23    99 non-null     object \n",
      " 31  COIL    99 non-null     object \n",
      " 32  1.600   99 non-null     float64\n",
      " 33  0610.0  99 non-null     float64\n",
      " 34  0000    99 non-null     int64  \n",
      " 35  ?.24    99 non-null     object \n",
      " 36  0000.1  99 non-null     int64  \n",
      " 37  ?.25    99 non-null     object \n",
      " 38  3       99 non-null     object \n",
      "dtypes: float64(2), int64(5), object(32)\n",
      "memory usage: 30.3+ KB\n"
     ]
    }
   ],
   "source": [
    "test.info()"
   ]
  },
  {
   "cell_type": "markdown",
   "metadata": {},
   "source": [
    "#### As expected both dataframes have equal number of columns, which means it is easy to join/merge/concatenate them, however, data does not make much sense. So, after reading the <b>\"names\"</b> files I discovered that column names are not given in either of the dataframes, so let's join the dataframs first and them give the column names then."
   ]
  },
  {
   "cell_type": "code",
   "execution_count": 9,
   "metadata": {},
   "outputs": [],
   "source": [
    "df = pd.concat([train,test], ignore_index=True)"
   ]
  },
  {
   "cell_type": "markdown",
   "metadata": {},
   "source": [
    "#### Importing columns from a text file that contains a lot of information is not easy, so what I did was to copy and paste the columns part of the file and used a macro (in my favourite text editor, which I use even for coding) Vim. Macro and logic behind it and where I obtained it from, all that info, is written below"
   ]
  },
  {
   "cell_type": "markdown",
   "metadata": {},
   "source": [
    "### Vim [Macro](https://vim.fandom.com/wiki/Macros) used\n",
    "#### <B> Logic</b>\n",
    "1> go to start of line 2> go to : and delete rest of line 3> insert at end of line , 4> normal mode 5> go to start of line, 6> down 1 line.\n",
    "\n",
    "#### @ <b>qdf:Da,{esc}{down}"
   ]
  },
  {
   "cell_type": "code",
   "execution_count": 11,
   "metadata": {},
   "outputs": [],
   "source": [
    "columns = [\"family\", \"product-type\", \"steel\", \"carbon\", \"hardness\", \"temper_rolling\",\n",
    "\"condition\", \"formability\", \"strength\", \"non-ageing\", \"surface-finish\", \"surface-quality\",\n",
    "\"enamelability\", \"bc\", \"bf\", \"bt\", \"bw/me\", \"bl\", \"m\", \"chrom\", \"phos\", \"cbond\", \"marvi\",\n",
    "\"exptl\", \"ferro\", \"corr\", \"blue/bright/varn/clean\", \"lustre\", \"jurofm\", \"s\", \"p\", \"shape\",\n",
    "\"thick\", \"width\", \"len\", \"oil\", \"bore\", \"packing\", \"classes\"]"
   ]
  },
  {
   "cell_type": "markdown",
   "metadata": {},
   "source": [
    "#### Now that we've columns, let's make sense of the data."
   ]
  },
  {
   "cell_type": "code",
   "execution_count": 14,
   "metadata": {},
   "outputs": [
    {
     "data": {
      "text/plain": [
       "Index(['?', 'C', 'A', '08', '00', '?.1', 'S', '?.2', '000', '?.3', '?.4', 'G',\n",
       "       '?.5', '?.6', '?.7', '?.8', '?.9', '?.10', '?.11', '?.12', '?.13',\n",
       "       '?.14', '?.15', '?.16', '?.17', '?.18', '?.19', '?.20', '?.21', '?.22',\n",
       "       '?.23', 'COIL', '0.700', '0610.0', '0000', '?.24', '0000.1', '?.25',\n",
       "       '3', '45', 'D', '1.600'],\n",
       "      dtype='object')"
      ]
     },
     "execution_count": 14,
     "metadata": {},
     "output_type": "execute_result"
    }
   ],
   "source": [
    "df.columns"
   ]
  },
  {
   "cell_type": "code",
   "execution_count": 16,
   "metadata": {},
   "outputs": [
    {
     "name": "stdout",
     "output_type": "stream",
     "text": [
      "<class 'pandas.core.frame.DataFrame'>\n",
      "RangeIndex: 896 entries, 0 to 895\n",
      "Data columns (total 42 columns):\n",
      " #   Column  Non-Null Count  Dtype  \n",
      "---  ------  --------------  -----  \n",
      " 0   ?       896 non-null    object \n",
      " 1   C       896 non-null    object \n",
      " 2   A       896 non-null    object \n",
      " 3   08      797 non-null    float64\n",
      " 4   00      896 non-null    int64  \n",
      " 5   ?.1     896 non-null    object \n",
      " 6   S       896 non-null    object \n",
      " 7   ?.2     896 non-null    object \n",
      " 8   000     896 non-null    int64  \n",
      " 9   ?.3     896 non-null    object \n",
      " 10  ?.4     896 non-null    object \n",
      " 11  G       797 non-null    object \n",
      " 12  ?.5     896 non-null    object \n",
      " 13  ?.6     896 non-null    object \n",
      " 14  ?.7     896 non-null    object \n",
      " 15  ?.8     896 non-null    object \n",
      " 16  ?.9     896 non-null    object \n",
      " 17  ?.10    896 non-null    object \n",
      " 18  ?.11    896 non-null    object \n",
      " 19  ?.12    896 non-null    object \n",
      " 20  ?.13    896 non-null    object \n",
      " 21  ?.14    896 non-null    object \n",
      " 22  ?.15    896 non-null    object \n",
      " 23  ?.16    896 non-null    object \n",
      " 24  ?.17    896 non-null    object \n",
      " 25  ?.18    896 non-null    object \n",
      " 26  ?.19    896 non-null    object \n",
      " 27  ?.20    896 non-null    object \n",
      " 28  ?.21    896 non-null    object \n",
      " 29  ?.22    896 non-null    object \n",
      " 30  ?.23    896 non-null    object \n",
      " 31  COIL    896 non-null    object \n",
      " 32  0.700   797 non-null    float64\n",
      " 33  0610.0  896 non-null    float64\n",
      " 34  0000    896 non-null    int64  \n",
      " 35  ?.24    896 non-null    object \n",
      " 36  0000.1  896 non-null    int64  \n",
      " 37  ?.25    896 non-null    object \n",
      " 38  3       896 non-null    object \n",
      " 39  45      99 non-null     float64\n",
      " 40  D       99 non-null     object \n",
      " 41  1.600   99 non-null     float64\n",
      "dtypes: float64(5), int64(4), object(33)\n",
      "memory usage: 294.1+ KB\n"
     ]
    }
   ],
   "source": [
    "df.info()"
   ]
  },
  {
   "cell_type": "code",
   "execution_count": 17,
   "metadata": {},
   "outputs": [],
   "source": [
    "dt = pd.merge(train,test)"
   ]
  },
  {
   "cell_type": "code",
   "execution_count": 21,
   "metadata": {},
   "outputs": [
    {
     "name": "stdout",
     "output_type": "stream",
     "text": [
      "<class 'pandas.core.frame.DataFrame'>\n",
      "Int64Index: 35 entries, 0 to 34\n",
      "Data columns (total 42 columns):\n",
      " #   Column  Non-Null Count  Dtype  \n",
      "---  ------  --------------  -----  \n",
      " 0   ?       35 non-null     object \n",
      " 1   C       35 non-null     object \n",
      " 2   A       35 non-null     object \n",
      " 3   08      35 non-null     int64  \n",
      " 4   00      35 non-null     int64  \n",
      " 5   ?.1     35 non-null     object \n",
      " 6   S       35 non-null     object \n",
      " 7   ?.2     35 non-null     object \n",
      " 8   000     35 non-null     int64  \n",
      " 9   ?.3     35 non-null     object \n",
      " 10  ?.4     35 non-null     object \n",
      " 11  G       35 non-null     object \n",
      " 12  ?.5     35 non-null     object \n",
      " 13  ?.6     35 non-null     object \n",
      " 14  ?.7     35 non-null     object \n",
      " 15  ?.8     35 non-null     object \n",
      " 16  ?.9     35 non-null     object \n",
      " 17  ?.10    35 non-null     object \n",
      " 18  ?.11    35 non-null     object \n",
      " 19  ?.12    35 non-null     object \n",
      " 20  ?.13    35 non-null     object \n",
      " 21  ?.14    35 non-null     object \n",
      " 22  ?.15    35 non-null     object \n",
      " 23  ?.16    35 non-null     object \n",
      " 24  ?.17    35 non-null     object \n",
      " 25  ?.18    35 non-null     object \n",
      " 26  ?.19    35 non-null     object \n",
      " 27  ?.20    35 non-null     object \n",
      " 28  ?.21    35 non-null     object \n",
      " 29  ?.22    35 non-null     object \n",
      " 30  ?.23    35 non-null     object \n",
      " 31  COIL    35 non-null     object \n",
      " 32  0.700   35 non-null     float64\n",
      " 33  0610.0  35 non-null     float64\n",
      " 34  0000    35 non-null     int64  \n",
      " 35  ?.24    35 non-null     object \n",
      " 36  0000.1  35 non-null     int64  \n",
      " 37  ?.25    35 non-null     object \n",
      " 38  3       35 non-null     object \n",
      " 39  45      35 non-null     int64  \n",
      " 40  D       35 non-null     object \n",
      " 41  1.600   35 non-null     float64\n",
      "dtypes: float64(3), int64(6), object(33)\n",
      "memory usage: 11.8+ KB\n"
     ]
    }
   ],
   "source": [
    "dt.info()"
   ]
  },
  {
   "cell_type": "markdown",
   "metadata": {},
   "source": [
    "#### Remember that our datasets (both, test and train) had 39 columns, but concatenated now has 42 columns, so I tried joining with <b> merge command</b> and still got 42 returned. AND in case of concatenation df did not lose any valuable information (I hope) however in case of <font color=red> merge lost all but 35 rows in the data after merging</font> I do not understand what is happening! If you want to further read about how to join dataframes [read](https://realpython.com/pandas-merge-join-and-concat/) and if you could tell me the reason I would appericiate. email jmansoor1347@gmail.com"
   ]
  },
  {
   "cell_type": "markdown",
   "metadata": {},
   "source": [
    "#### Let's remove newly (3) added columnsa and give the rest, names as described above"
   ]
  },
  {
   "cell_type": "code",
   "execution_count": 32,
   "metadata": {},
   "outputs": [
    {
     "ename": "AttributeError",
     "evalue": "'Series' object has no attribute 'info'",
     "output_type": "error",
     "traceback": [
      "\u001b[0;31m---------------------------------------------------------------------------\u001b[0m",
      "\u001b[0;31mAttributeError\u001b[0m                            Traceback (most recent call last)",
      "\u001b[0;32m<ipython-input-32-686c8d71959c>\u001b[0m in \u001b[0;36m<module>\u001b[0;34m\u001b[0m\n\u001b[1;32m      1\u001b[0m \u001b[0;31m# dc = df.iloc[:,-3]\u001b[0m\u001b[0;34m\u001b[0m\u001b[0;34m\u001b[0m\u001b[0;34m\u001b[0m\u001b[0m\n\u001b[0;32m----> 2\u001b[0;31m \u001b[0mdf\u001b[0m\u001b[0;34m.\u001b[0m\u001b[0minfo\u001b[0m\u001b[0;34m\u001b[0m\u001b[0;34m\u001b[0m\u001b[0m\n\u001b[0m",
      "\u001b[0;32m~/.local/lib/python3.7/site-packages/pandas/core/generic.py\u001b[0m in \u001b[0;36m__getattr__\u001b[0;34m(self, name)\u001b[0m\n\u001b[1;32m   5134\u001b[0m             \u001b[0;32mif\u001b[0m \u001b[0mself\u001b[0m\u001b[0;34m.\u001b[0m\u001b[0m_info_axis\u001b[0m\u001b[0;34m.\u001b[0m\u001b[0m_can_hold_identifiers_and_holds_name\u001b[0m\u001b[0;34m(\u001b[0m\u001b[0mname\u001b[0m\u001b[0;34m)\u001b[0m\u001b[0;34m:\u001b[0m\u001b[0;34m\u001b[0m\u001b[0;34m\u001b[0m\u001b[0m\n\u001b[1;32m   5135\u001b[0m                 \u001b[0;32mreturn\u001b[0m \u001b[0mself\u001b[0m\u001b[0;34m[\u001b[0m\u001b[0mname\u001b[0m\u001b[0;34m]\u001b[0m\u001b[0;34m\u001b[0m\u001b[0;34m\u001b[0m\u001b[0m\n\u001b[0;32m-> 5136\u001b[0;31m             \u001b[0;32mreturn\u001b[0m \u001b[0mobject\u001b[0m\u001b[0;34m.\u001b[0m\u001b[0m__getattribute__\u001b[0m\u001b[0;34m(\u001b[0m\u001b[0mself\u001b[0m\u001b[0;34m,\u001b[0m \u001b[0mname\u001b[0m\u001b[0;34m)\u001b[0m\u001b[0;34m\u001b[0m\u001b[0;34m\u001b[0m\u001b[0m\n\u001b[0m\u001b[1;32m   5137\u001b[0m \u001b[0;34m\u001b[0m\u001b[0m\n\u001b[1;32m   5138\u001b[0m     \u001b[0;32mdef\u001b[0m \u001b[0m__setattr__\u001b[0m\u001b[0;34m(\u001b[0m\u001b[0mself\u001b[0m\u001b[0;34m,\u001b[0m \u001b[0mname\u001b[0m\u001b[0;34m:\u001b[0m \u001b[0mstr\u001b[0m\u001b[0;34m,\u001b[0m \u001b[0mvalue\u001b[0m\u001b[0;34m)\u001b[0m \u001b[0;34m->\u001b[0m \u001b[0;32mNone\u001b[0m\u001b[0;34m:\u001b[0m\u001b[0;34m\u001b[0m\u001b[0;34m\u001b[0m\u001b[0m\n",
      "\u001b[0;31mAttributeError\u001b[0m: 'Series' object has no attribute 'info'"
     ]
    }
   ],
   "source": [
    "# dc = df.iloc[:,-3]\n",
    "df.info"
   ]
  },
  {
   "cell_type": "code",
   "execution_count": 30,
   "metadata": {},
   "outputs": [
    {
     "name": "stdout",
     "output_type": "stream",
     "text": [
      "<class 'pandas.core.frame.DataFrame'>\n",
      "RangeIndex: 797 entries, 0 to 796\n",
      "Data columns (total 39 columns):\n",
      " #   Column  Non-Null Count  Dtype  \n",
      "---  ------  --------------  -----  \n",
      " 0   ?       797 non-null    object \n",
      " 1   C       797 non-null    object \n",
      " 2   A       797 non-null    object \n",
      " 3   08      797 non-null    int64  \n",
      " 4   00      797 non-null    int64  \n",
      " 5   ?.1     797 non-null    object \n",
      " 6   S       797 non-null    object \n",
      " 7   ?.2     797 non-null    object \n",
      " 8   000     797 non-null    int64  \n",
      " 9   ?.3     797 non-null    object \n",
      " 10  ?.4     797 non-null    object \n",
      " 11  G       797 non-null    object \n",
      " 12  ?.5     797 non-null    object \n",
      " 13  ?.6     797 non-null    object \n",
      " 14  ?.7     797 non-null    object \n",
      " 15  ?.8     797 non-null    object \n",
      " 16  ?.9     797 non-null    object \n",
      " 17  ?.10    797 non-null    object \n",
      " 18  ?.11    797 non-null    object \n",
      " 19  ?.12    797 non-null    object \n",
      " 20  ?.13    797 non-null    object \n",
      " 21  ?.14    797 non-null    object \n",
      " 22  ?.15    797 non-null    object \n",
      " 23  ?.16    797 non-null    object \n",
      " 24  ?.17    797 non-null    object \n",
      " 25  ?.18    797 non-null    object \n",
      " 26  ?.19    797 non-null    object \n",
      " 27  ?.20    797 non-null    object \n",
      " 28  ?.21    797 non-null    object \n",
      " 29  ?.22    797 non-null    object \n",
      " 30  ?.23    797 non-null    object \n",
      " 31  COIL    797 non-null    object \n",
      " 32  0.700   797 non-null    float64\n",
      " 33  0610.0  797 non-null    float64\n",
      " 34  0000    797 non-null    int64  \n",
      " 35  ?.24    797 non-null    object \n",
      " 36  0000.1  797 non-null    int64  \n",
      " 37  ?.25    797 non-null    object \n",
      " 38  3       797 non-null    object \n",
      "dtypes: float64(2), int64(5), object(32)\n",
      "memory usage: 243.0+ KB\n"
     ]
    }
   ],
   "source": [
    "train.info()"
   ]
  },
  {
   "cell_type": "code",
   "execution_count": 39,
   "metadata": {},
   "outputs": [
    {
     "data": {
      "text/html": [
       "<div>\n",
       "<style scoped>\n",
       "    .dataframe tbody tr th:only-of-type {\n",
       "        vertical-align: middle;\n",
       "    }\n",
       "\n",
       "    .dataframe tbody tr th {\n",
       "        vertical-align: top;\n",
       "    }\n",
       "\n",
       "    .dataframe thead th {\n",
       "        text-align: right;\n",
       "    }\n",
       "</style>\n",
       "<table border=\"1\" class=\"dataframe\">\n",
       "  <thead>\n",
       "    <tr style=\"text-align: right;\">\n",
       "      <th></th>\n",
       "      <th>?</th>\n",
       "      <th>C</th>\n",
       "      <th>A</th>\n",
       "      <th>08</th>\n",
       "      <th>00</th>\n",
       "      <th>?.1</th>\n",
       "      <th>S</th>\n",
       "      <th>?.2</th>\n",
       "      <th>000</th>\n",
       "      <th>?.3</th>\n",
       "      <th>...</th>\n",
       "      <th>0.700</th>\n",
       "      <th>0610.0</th>\n",
       "      <th>0000</th>\n",
       "      <th>?.24</th>\n",
       "      <th>0000.1</th>\n",
       "      <th>?.25</th>\n",
       "      <th>3</th>\n",
       "      <th>45</th>\n",
       "      <th>D</th>\n",
       "      <th>1.600</th>\n",
       "    </tr>\n",
       "  </thead>\n",
       "  <tbody>\n",
       "    <tr>\n",
       "      <th>0</th>\n",
       "      <td>?</td>\n",
       "      <td>C</td>\n",
       "      <td>R</td>\n",
       "      <td>0.0</td>\n",
       "      <td>0</td>\n",
       "      <td>?</td>\n",
       "      <td>S</td>\n",
       "      <td>2</td>\n",
       "      <td>0</td>\n",
       "      <td>?</td>\n",
       "      <td>...</td>\n",
       "      <td>3.200</td>\n",
       "      <td>610.0</td>\n",
       "      <td>0</td>\n",
       "      <td>?</td>\n",
       "      <td>0</td>\n",
       "      <td>?</td>\n",
       "      <td>3</td>\n",
       "      <td>NaN</td>\n",
       "      <td>NaN</td>\n",
       "      <td>NaN</td>\n",
       "    </tr>\n",
       "    <tr>\n",
       "      <th>1</th>\n",
       "      <td>?</td>\n",
       "      <td>C</td>\n",
       "      <td>R</td>\n",
       "      <td>0.0</td>\n",
       "      <td>0</td>\n",
       "      <td>?</td>\n",
       "      <td>S</td>\n",
       "      <td>2</td>\n",
       "      <td>0</td>\n",
       "      <td>?</td>\n",
       "      <td>...</td>\n",
       "      <td>0.700</td>\n",
       "      <td>1300.0</td>\n",
       "      <td>762</td>\n",
       "      <td>?</td>\n",
       "      <td>0</td>\n",
       "      <td>?</td>\n",
       "      <td>3</td>\n",
       "      <td>NaN</td>\n",
       "      <td>NaN</td>\n",
       "      <td>NaN</td>\n",
       "    </tr>\n",
       "    <tr>\n",
       "      <th>2</th>\n",
       "      <td>?</td>\n",
       "      <td>C</td>\n",
       "      <td>A</td>\n",
       "      <td>0.0</td>\n",
       "      <td>60</td>\n",
       "      <td>T</td>\n",
       "      <td>?</td>\n",
       "      <td>?</td>\n",
       "      <td>0</td>\n",
       "      <td>?</td>\n",
       "      <td>...</td>\n",
       "      <td>2.801</td>\n",
       "      <td>385.1</td>\n",
       "      <td>0</td>\n",
       "      <td>?</td>\n",
       "      <td>0</td>\n",
       "      <td>?</td>\n",
       "      <td>3</td>\n",
       "      <td>NaN</td>\n",
       "      <td>NaN</td>\n",
       "      <td>NaN</td>\n",
       "    </tr>\n",
       "    <tr>\n",
       "      <th>3</th>\n",
       "      <td>?</td>\n",
       "      <td>C</td>\n",
       "      <td>A</td>\n",
       "      <td>0.0</td>\n",
       "      <td>60</td>\n",
       "      <td>T</td>\n",
       "      <td>?</td>\n",
       "      <td>?</td>\n",
       "      <td>0</td>\n",
       "      <td>?</td>\n",
       "      <td>...</td>\n",
       "      <td>0.801</td>\n",
       "      <td>255.0</td>\n",
       "      <td>269</td>\n",
       "      <td>?</td>\n",
       "      <td>0</td>\n",
       "      <td>?</td>\n",
       "      <td>3</td>\n",
       "      <td>NaN</td>\n",
       "      <td>NaN</td>\n",
       "      <td>NaN</td>\n",
       "    </tr>\n",
       "    <tr>\n",
       "      <th>4</th>\n",
       "      <td>?</td>\n",
       "      <td>C</td>\n",
       "      <td>A</td>\n",
       "      <td>0.0</td>\n",
       "      <td>45</td>\n",
       "      <td>?</td>\n",
       "      <td>S</td>\n",
       "      <td>?</td>\n",
       "      <td>0</td>\n",
       "      <td>?</td>\n",
       "      <td>...</td>\n",
       "      <td>1.600</td>\n",
       "      <td>610.0</td>\n",
       "      <td>0</td>\n",
       "      <td>?</td>\n",
       "      <td>0</td>\n",
       "      <td>?</td>\n",
       "      <td>3</td>\n",
       "      <td>NaN</td>\n",
       "      <td>NaN</td>\n",
       "      <td>NaN</td>\n",
       "    </tr>\n",
       "  </tbody>\n",
       "</table>\n",
       "<p>5 rows × 42 columns</p>\n",
       "</div>"
      ],
      "text/plain": [
       "   ?  C  A   08  00 ?.1  S ?.2  000 ?.3  ...  0.700  0610.0 0000 ?.24 0000.1  \\\n",
       "0  ?  C  R  0.0   0   ?  S   2    0   ?  ...  3.200   610.0    0    ?      0   \n",
       "1  ?  C  R  0.0   0   ?  S   2    0   ?  ...  0.700  1300.0  762    ?      0   \n",
       "2  ?  C  A  0.0  60   T  ?   ?    0   ?  ...  2.801   385.1    0    ?      0   \n",
       "3  ?  C  A  0.0  60   T  ?   ?    0   ?  ...  0.801   255.0  269    ?      0   \n",
       "4  ?  C  A  0.0  45   ?  S   ?    0   ?  ...  1.600   610.0    0    ?      0   \n",
       "\n",
       "  ?.25  3  45    D 1.600  \n",
       "0    ?  3 NaN  NaN   NaN  \n",
       "1    ?  3 NaN  NaN   NaN  \n",
       "2    ?  3 NaN  NaN   NaN  \n",
       "3    ?  3 NaN  NaN   NaN  \n",
       "4    ?  3 NaN  NaN   NaN  \n",
       "\n",
       "[5 rows x 42 columns]"
      ]
     },
     "execution_count": 39,
     "metadata": {},
     "output_type": "execute_result"
    }
   ],
   "source": [
    "# I don't know what happened but df got corrupted so I created it again\n",
    "df = pd.concat([train,test], ignore_index=True)\n",
    "df.head()"
   ]
  },
  {
   "cell_type": "code",
   "execution_count": 40,
   "metadata": {},
   "outputs": [
    {
     "data": {
      "text/plain": [
       "0   NaN\n",
       "1   NaN\n",
       "2   NaN\n",
       "3   NaN\n",
       "4   NaN\n",
       "Name: 45, dtype: float64"
      ]
     },
     "execution_count": 40,
     "metadata": {},
     "output_type": "execute_result"
    }
   ],
   "source": [
    "# seams alright so let's get to work, eleminate extra columns and then give column names\n",
    "df = df.iloc[:,-3]\n",
    "df.head()"
   ]
  },
  {
   "cell_type": "markdown",
   "metadata": {},
   "source": [
    "#### Ok, I found the problem let's sort it out now"
   ]
  },
  {
   "cell_type": "code",
   "execution_count": 42,
   "metadata": {},
   "outputs": [
    {
     "data": {
      "text/html": [
       "<div>\n",
       "<style scoped>\n",
       "    .dataframe tbody tr th:only-of-type {\n",
       "        vertical-align: middle;\n",
       "    }\n",
       "\n",
       "    .dataframe tbody tr th {\n",
       "        vertical-align: top;\n",
       "    }\n",
       "\n",
       "    .dataframe thead th {\n",
       "        text-align: right;\n",
       "    }\n",
       "</style>\n",
       "<table border=\"1\" class=\"dataframe\">\n",
       "  <thead>\n",
       "    <tr style=\"text-align: right;\">\n",
       "      <th></th>\n",
       "      <th>?</th>\n",
       "      <th>C</th>\n",
       "      <th>A</th>\n",
       "      <th>08</th>\n",
       "      <th>00</th>\n",
       "      <th>?.1</th>\n",
       "      <th>S</th>\n",
       "      <th>?.2</th>\n",
       "      <th>000</th>\n",
       "      <th>?.3</th>\n",
       "      <th>...</th>\n",
       "      <th>?.22</th>\n",
       "      <th>?.23</th>\n",
       "      <th>COIL</th>\n",
       "      <th>0.700</th>\n",
       "      <th>0610.0</th>\n",
       "      <th>0000</th>\n",
       "      <th>?.24</th>\n",
       "      <th>0000.1</th>\n",
       "      <th>?.25</th>\n",
       "      <th>3</th>\n",
       "    </tr>\n",
       "  </thead>\n",
       "  <tbody>\n",
       "    <tr>\n",
       "      <th>0</th>\n",
       "      <td>?</td>\n",
       "      <td>C</td>\n",
       "      <td>R</td>\n",
       "      <td>0.0</td>\n",
       "      <td>0</td>\n",
       "      <td>?</td>\n",
       "      <td>S</td>\n",
       "      <td>2</td>\n",
       "      <td>0</td>\n",
       "      <td>?</td>\n",
       "      <td>...</td>\n",
       "      <td>?</td>\n",
       "      <td>?</td>\n",
       "      <td>COIL</td>\n",
       "      <td>3.200</td>\n",
       "      <td>610.0</td>\n",
       "      <td>0</td>\n",
       "      <td>?</td>\n",
       "      <td>0</td>\n",
       "      <td>?</td>\n",
       "      <td>3</td>\n",
       "    </tr>\n",
       "    <tr>\n",
       "      <th>1</th>\n",
       "      <td>?</td>\n",
       "      <td>C</td>\n",
       "      <td>R</td>\n",
       "      <td>0.0</td>\n",
       "      <td>0</td>\n",
       "      <td>?</td>\n",
       "      <td>S</td>\n",
       "      <td>2</td>\n",
       "      <td>0</td>\n",
       "      <td>?</td>\n",
       "      <td>...</td>\n",
       "      <td>?</td>\n",
       "      <td>?</td>\n",
       "      <td>SHEET</td>\n",
       "      <td>0.700</td>\n",
       "      <td>1300.0</td>\n",
       "      <td>762</td>\n",
       "      <td>?</td>\n",
       "      <td>0</td>\n",
       "      <td>?</td>\n",
       "      <td>3</td>\n",
       "    </tr>\n",
       "    <tr>\n",
       "      <th>2</th>\n",
       "      <td>?</td>\n",
       "      <td>C</td>\n",
       "      <td>A</td>\n",
       "      <td>0.0</td>\n",
       "      <td>60</td>\n",
       "      <td>T</td>\n",
       "      <td>?</td>\n",
       "      <td>?</td>\n",
       "      <td>0</td>\n",
       "      <td>?</td>\n",
       "      <td>...</td>\n",
       "      <td>?</td>\n",
       "      <td>?</td>\n",
       "      <td>COIL</td>\n",
       "      <td>2.801</td>\n",
       "      <td>385.1</td>\n",
       "      <td>0</td>\n",
       "      <td>?</td>\n",
       "      <td>0</td>\n",
       "      <td>?</td>\n",
       "      <td>3</td>\n",
       "    </tr>\n",
       "    <tr>\n",
       "      <th>3</th>\n",
       "      <td>?</td>\n",
       "      <td>C</td>\n",
       "      <td>A</td>\n",
       "      <td>0.0</td>\n",
       "      <td>60</td>\n",
       "      <td>T</td>\n",
       "      <td>?</td>\n",
       "      <td>?</td>\n",
       "      <td>0</td>\n",
       "      <td>?</td>\n",
       "      <td>...</td>\n",
       "      <td>?</td>\n",
       "      <td>?</td>\n",
       "      <td>SHEET</td>\n",
       "      <td>0.801</td>\n",
       "      <td>255.0</td>\n",
       "      <td>269</td>\n",
       "      <td>?</td>\n",
       "      <td>0</td>\n",
       "      <td>?</td>\n",
       "      <td>3</td>\n",
       "    </tr>\n",
       "    <tr>\n",
       "      <th>4</th>\n",
       "      <td>?</td>\n",
       "      <td>C</td>\n",
       "      <td>A</td>\n",
       "      <td>0.0</td>\n",
       "      <td>45</td>\n",
       "      <td>?</td>\n",
       "      <td>S</td>\n",
       "      <td>?</td>\n",
       "      <td>0</td>\n",
       "      <td>?</td>\n",
       "      <td>...</td>\n",
       "      <td>?</td>\n",
       "      <td>?</td>\n",
       "      <td>COIL</td>\n",
       "      <td>1.600</td>\n",
       "      <td>610.0</td>\n",
       "      <td>0</td>\n",
       "      <td>?</td>\n",
       "      <td>0</td>\n",
       "      <td>?</td>\n",
       "      <td>3</td>\n",
       "    </tr>\n",
       "  </tbody>\n",
       "</table>\n",
       "<p>5 rows × 39 columns</p>\n",
       "</div>"
      ],
      "text/plain": [
       "   ?  C  A   08  00 ?.1  S ?.2  000 ?.3  ... ?.22 ?.23   COIL  0.700  0610.0  \\\n",
       "0  ?  C  R  0.0   0   ?  S   2    0   ?  ...    ?    ?   COIL  3.200   610.0   \n",
       "1  ?  C  R  0.0   0   ?  S   2    0   ?  ...    ?    ?  SHEET  0.700  1300.0   \n",
       "2  ?  C  A  0.0  60   T  ?   ?    0   ?  ...    ?    ?   COIL  2.801   385.1   \n",
       "3  ?  C  A  0.0  60   T  ?   ?    0   ?  ...    ?    ?  SHEET  0.801   255.0   \n",
       "4  ?  C  A  0.0  45   ?  S   ?    0   ?  ...    ?    ?   COIL  1.600   610.0   \n",
       "\n",
       "  0000 ?.24 0000.1 ?.25  3  \n",
       "0    0    ?      0    ?  3  \n",
       "1  762    ?      0    ?  3  \n",
       "2    0    ?      0    ?  3  \n",
       "3  269    ?      0    ?  3  \n",
       "4    0    ?      0    ?  3  \n",
       "\n",
       "[5 rows x 39 columns]"
      ]
     },
     "execution_count": 42,
     "metadata": {},
     "output_type": "execute_result"
    }
   ],
   "source": [
    "df = pd.concat([train, test], ignore_index=True)\n",
    "df = df.iloc[:,:-3]\n",
    "df.head() # And this works now"
   ]
  },
  {
   "cell_type": "code",
   "execution_count": 43,
   "metadata": {},
   "outputs": [
    {
     "data": {
      "text/plain": [
       "(896, 39)"
      ]
     },
     "execution_count": 43,
     "metadata": {},
     "output_type": "execute_result"
    }
   ],
   "source": [
    "df.shape"
   ]
  },
  {
   "cell_type": "code",
   "execution_count": 45,
   "metadata": {},
   "outputs": [
    {
     "data": {
      "text/plain": [
       "(896, 39)"
      ]
     },
     "execution_count": 45,
     "metadata": {},
     "output_type": "execute_result"
    }
   ],
   "source": [
    "df.columns = columns\n",
    "df.shape"
   ]
  },
  {
   "cell_type": "markdown",
   "metadata": {},
   "source": [
    "#### This way I lost first line (which pandas thought was column) as it is now replaced with the columns names that I provided just now. Any help in this regard, that conserves first line while pushing dataframe down and preserves df would be appericiated. However for this df this is not significant since we still have 895 lines remaining"
   ]
  },
  {
   "cell_type": "code",
   "execution_count": 46,
   "metadata": {},
   "outputs": [
    {
     "data": {
      "text/html": [
       "<div>\n",
       "<style scoped>\n",
       "    .dataframe tbody tr th:only-of-type {\n",
       "        vertical-align: middle;\n",
       "    }\n",
       "\n",
       "    .dataframe tbody tr th {\n",
       "        vertical-align: top;\n",
       "    }\n",
       "\n",
       "    .dataframe thead th {\n",
       "        text-align: right;\n",
       "    }\n",
       "</style>\n",
       "<table border=\"1\" class=\"dataframe\">\n",
       "  <thead>\n",
       "    <tr style=\"text-align: right;\">\n",
       "      <th></th>\n",
       "      <th>family</th>\n",
       "      <th>product-type</th>\n",
       "      <th>steel</th>\n",
       "      <th>carbon</th>\n",
       "      <th>hardness</th>\n",
       "      <th>temper_rolling</th>\n",
       "      <th>condition</th>\n",
       "      <th>formability</th>\n",
       "      <th>strength</th>\n",
       "      <th>non-ageing</th>\n",
       "      <th>...</th>\n",
       "      <th>s</th>\n",
       "      <th>p</th>\n",
       "      <th>shape</th>\n",
       "      <th>thick</th>\n",
       "      <th>width</th>\n",
       "      <th>len</th>\n",
       "      <th>oil</th>\n",
       "      <th>bore</th>\n",
       "      <th>packing</th>\n",
       "      <th>classes</th>\n",
       "    </tr>\n",
       "  </thead>\n",
       "  <tbody>\n",
       "    <tr>\n",
       "      <th>0</th>\n",
       "      <td>?</td>\n",
       "      <td>C</td>\n",
       "      <td>R</td>\n",
       "      <td>0.0</td>\n",
       "      <td>0</td>\n",
       "      <td>?</td>\n",
       "      <td>S</td>\n",
       "      <td>2</td>\n",
       "      <td>0</td>\n",
       "      <td>?</td>\n",
       "      <td>...</td>\n",
       "      <td>?</td>\n",
       "      <td>?</td>\n",
       "      <td>COIL</td>\n",
       "      <td>3.2</td>\n",
       "      <td>610.0</td>\n",
       "      <td>0</td>\n",
       "      <td>?</td>\n",
       "      <td>0</td>\n",
       "      <td>?</td>\n",
       "      <td>3</td>\n",
       "    </tr>\n",
       "    <tr>\n",
       "      <th>1</th>\n",
       "      <td>?</td>\n",
       "      <td>C</td>\n",
       "      <td>R</td>\n",
       "      <td>0.0</td>\n",
       "      <td>0</td>\n",
       "      <td>?</td>\n",
       "      <td>S</td>\n",
       "      <td>2</td>\n",
       "      <td>0</td>\n",
       "      <td>?</td>\n",
       "      <td>...</td>\n",
       "      <td>?</td>\n",
       "      <td>?</td>\n",
       "      <td>SHEET</td>\n",
       "      <td>0.7</td>\n",
       "      <td>1300.0</td>\n",
       "      <td>762</td>\n",
       "      <td>?</td>\n",
       "      <td>0</td>\n",
       "      <td>?</td>\n",
       "      <td>3</td>\n",
       "    </tr>\n",
       "  </tbody>\n",
       "</table>\n",
       "<p>2 rows × 39 columns</p>\n",
       "</div>"
      ],
      "text/plain": [
       "  family product-type steel  carbon  hardness temper_rolling condition  \\\n",
       "0      ?            C     R     0.0         0              ?         S   \n",
       "1      ?            C     R     0.0         0              ?         S   \n",
       "\n",
       "  formability  strength non-ageing  ...  s  p  shape thick   width  len oil  \\\n",
       "0           2         0          ?  ...  ?  ?   COIL   3.2   610.0    0   ?   \n",
       "1           2         0          ?  ...  ?  ?  SHEET   0.7  1300.0  762   ?   \n",
       "\n",
       "  bore packing classes  \n",
       "0    0       ?       3  \n",
       "1    0       ?       3  \n",
       "\n",
       "[2 rows x 39 columns]"
      ]
     },
     "execution_count": 46,
     "metadata": {},
     "output_type": "execute_result"
    }
   ],
   "source": [
    "df.head(2)"
   ]
  },
  {
   "cell_type": "markdown",
   "metadata": {},
   "source": [
    "#### Ok, upon inspection I found that no information (record/line/instance) was lost. So, thank you for considering helping your buddy. :) anyway"
   ]
  },
  {
   "cell_type": "markdown",
   "metadata": {},
   "source": [
    "#### Now basics are out of the way, let's make more sense of the dataframe now"
   ]
  },
  {
   "cell_type": "code",
   "execution_count": 48,
   "metadata": {},
   "outputs": [
    {
     "data": {
      "text/html": [
       "<div>\n",
       "<style scoped>\n",
       "    .dataframe tbody tr th:only-of-type {\n",
       "        vertical-align: middle;\n",
       "    }\n",
       "\n",
       "    .dataframe tbody tr th {\n",
       "        vertical-align: top;\n",
       "    }\n",
       "\n",
       "    .dataframe thead th {\n",
       "        text-align: right;\n",
       "    }\n",
       "</style>\n",
       "<table border=\"1\" class=\"dataframe\">\n",
       "  <thead>\n",
       "    <tr style=\"text-align: right;\">\n",
       "      <th></th>\n",
       "      <th>family</th>\n",
       "      <th>product-type</th>\n",
       "      <th>steel</th>\n",
       "      <th>carbon</th>\n",
       "      <th>hardness</th>\n",
       "      <th>temper_rolling</th>\n",
       "      <th>condition</th>\n",
       "      <th>formability</th>\n",
       "      <th>strength</th>\n",
       "      <th>non-ageing</th>\n",
       "      <th>...</th>\n",
       "      <th>s</th>\n",
       "      <th>p</th>\n",
       "      <th>shape</th>\n",
       "      <th>thick</th>\n",
       "      <th>width</th>\n",
       "      <th>len</th>\n",
       "      <th>oil</th>\n",
       "      <th>bore</th>\n",
       "      <th>packing</th>\n",
       "      <th>classes</th>\n",
       "    </tr>\n",
       "  </thead>\n",
       "  <tbody>\n",
       "    <tr>\n",
       "      <th>0</th>\n",
       "      <td>?</td>\n",
       "      <td>C</td>\n",
       "      <td>R</td>\n",
       "      <td>0.0</td>\n",
       "      <td>0</td>\n",
       "      <td>?</td>\n",
       "      <td>S</td>\n",
       "      <td>2</td>\n",
       "      <td>0</td>\n",
       "      <td>?</td>\n",
       "      <td>...</td>\n",
       "      <td>?</td>\n",
       "      <td>?</td>\n",
       "      <td>COIL</td>\n",
       "      <td>3.200</td>\n",
       "      <td>610.0</td>\n",
       "      <td>0</td>\n",
       "      <td>?</td>\n",
       "      <td>0</td>\n",
       "      <td>?</td>\n",
       "      <td>3</td>\n",
       "    </tr>\n",
       "    <tr>\n",
       "      <th>1</th>\n",
       "      <td>?</td>\n",
       "      <td>C</td>\n",
       "      <td>R</td>\n",
       "      <td>0.0</td>\n",
       "      <td>0</td>\n",
       "      <td>?</td>\n",
       "      <td>S</td>\n",
       "      <td>2</td>\n",
       "      <td>0</td>\n",
       "      <td>?</td>\n",
       "      <td>...</td>\n",
       "      <td>?</td>\n",
       "      <td>?</td>\n",
       "      <td>SHEET</td>\n",
       "      <td>0.700</td>\n",
       "      <td>1300.0</td>\n",
       "      <td>762</td>\n",
       "      <td>?</td>\n",
       "      <td>0</td>\n",
       "      <td>?</td>\n",
       "      <td>3</td>\n",
       "    </tr>\n",
       "    <tr>\n",
       "      <th>2</th>\n",
       "      <td>?</td>\n",
       "      <td>C</td>\n",
       "      <td>A</td>\n",
       "      <td>0.0</td>\n",
       "      <td>60</td>\n",
       "      <td>T</td>\n",
       "      <td>?</td>\n",
       "      <td>?</td>\n",
       "      <td>0</td>\n",
       "      <td>?</td>\n",
       "      <td>...</td>\n",
       "      <td>?</td>\n",
       "      <td>?</td>\n",
       "      <td>COIL</td>\n",
       "      <td>2.801</td>\n",
       "      <td>385.1</td>\n",
       "      <td>0</td>\n",
       "      <td>?</td>\n",
       "      <td>0</td>\n",
       "      <td>?</td>\n",
       "      <td>3</td>\n",
       "    </tr>\n",
       "    <tr>\n",
       "      <th>3</th>\n",
       "      <td>?</td>\n",
       "      <td>C</td>\n",
       "      <td>A</td>\n",
       "      <td>0.0</td>\n",
       "      <td>60</td>\n",
       "      <td>T</td>\n",
       "      <td>?</td>\n",
       "      <td>?</td>\n",
       "      <td>0</td>\n",
       "      <td>?</td>\n",
       "      <td>...</td>\n",
       "      <td>?</td>\n",
       "      <td>?</td>\n",
       "      <td>SHEET</td>\n",
       "      <td>0.801</td>\n",
       "      <td>255.0</td>\n",
       "      <td>269</td>\n",
       "      <td>?</td>\n",
       "      <td>0</td>\n",
       "      <td>?</td>\n",
       "      <td>3</td>\n",
       "    </tr>\n",
       "    <tr>\n",
       "      <th>4</th>\n",
       "      <td>?</td>\n",
       "      <td>C</td>\n",
       "      <td>A</td>\n",
       "      <td>0.0</td>\n",
       "      <td>45</td>\n",
       "      <td>?</td>\n",
       "      <td>S</td>\n",
       "      <td>?</td>\n",
       "      <td>0</td>\n",
       "      <td>?</td>\n",
       "      <td>...</td>\n",
       "      <td>?</td>\n",
       "      <td>?</td>\n",
       "      <td>COIL</td>\n",
       "      <td>1.600</td>\n",
       "      <td>610.0</td>\n",
       "      <td>0</td>\n",
       "      <td>?</td>\n",
       "      <td>0</td>\n",
       "      <td>?</td>\n",
       "      <td>3</td>\n",
       "    </tr>\n",
       "    <tr>\n",
       "      <th>...</th>\n",
       "      <td>...</td>\n",
       "      <td>...</td>\n",
       "      <td>...</td>\n",
       "      <td>...</td>\n",
       "      <td>...</td>\n",
       "      <td>...</td>\n",
       "      <td>...</td>\n",
       "      <td>...</td>\n",
       "      <td>...</td>\n",
       "      <td>...</td>\n",
       "      <td>...</td>\n",
       "      <td>...</td>\n",
       "      <td>...</td>\n",
       "      <td>...</td>\n",
       "      <td>...</td>\n",
       "      <td>...</td>\n",
       "      <td>...</td>\n",
       "      <td>...</td>\n",
       "      <td>...</td>\n",
       "      <td>...</td>\n",
       "      <td>...</td>\n",
       "    </tr>\n",
       "    <tr>\n",
       "      <th>891</th>\n",
       "      <td>?</td>\n",
       "      <td>C</td>\n",
       "      <td>R</td>\n",
       "      <td>NaN</td>\n",
       "      <td>0</td>\n",
       "      <td>?</td>\n",
       "      <td>S</td>\n",
       "      <td>3</td>\n",
       "      <td>0</td>\n",
       "      <td>?</td>\n",
       "      <td>...</td>\n",
       "      <td>?</td>\n",
       "      <td>?</td>\n",
       "      <td>SHEET</td>\n",
       "      <td>NaN</td>\n",
       "      <td>610.0</td>\n",
       "      <td>762</td>\n",
       "      <td>?</td>\n",
       "      <td>0</td>\n",
       "      <td>?</td>\n",
       "      <td>2</td>\n",
       "    </tr>\n",
       "    <tr>\n",
       "      <th>892</th>\n",
       "      <td>?</td>\n",
       "      <td>C</td>\n",
       "      <td>R</td>\n",
       "      <td>NaN</td>\n",
       "      <td>0</td>\n",
       "      <td>?</td>\n",
       "      <td>S</td>\n",
       "      <td>3</td>\n",
       "      <td>0</td>\n",
       "      <td>?</td>\n",
       "      <td>...</td>\n",
       "      <td>?</td>\n",
       "      <td>?</td>\n",
       "      <td>SHEET</td>\n",
       "      <td>NaN</td>\n",
       "      <td>830.0</td>\n",
       "      <td>880</td>\n",
       "      <td>?</td>\n",
       "      <td>0</td>\n",
       "      <td>?</td>\n",
       "      <td>2</td>\n",
       "    </tr>\n",
       "    <tr>\n",
       "      <th>893</th>\n",
       "      <td>?</td>\n",
       "      <td>C</td>\n",
       "      <td>V</td>\n",
       "      <td>NaN</td>\n",
       "      <td>0</td>\n",
       "      <td>?</td>\n",
       "      <td>S</td>\n",
       "      <td>2</td>\n",
       "      <td>0</td>\n",
       "      <td>?</td>\n",
       "      <td>...</td>\n",
       "      <td>?</td>\n",
       "      <td>?</td>\n",
       "      <td>SHEET</td>\n",
       "      <td>NaN</td>\n",
       "      <td>150.0</td>\n",
       "      <td>762</td>\n",
       "      <td>?</td>\n",
       "      <td>0</td>\n",
       "      <td>?</td>\n",
       "      <td>2</td>\n",
       "    </tr>\n",
       "    <tr>\n",
       "      <th>894</th>\n",
       "      <td>?</td>\n",
       "      <td>C</td>\n",
       "      <td>A</td>\n",
       "      <td>NaN</td>\n",
       "      <td>0</td>\n",
       "      <td>T</td>\n",
       "      <td>?</td>\n",
       "      <td>?</td>\n",
       "      <td>0</td>\n",
       "      <td>?</td>\n",
       "      <td>...</td>\n",
       "      <td>?</td>\n",
       "      <td>?</td>\n",
       "      <td>COIL</td>\n",
       "      <td>NaN</td>\n",
       "      <td>20.0</td>\n",
       "      <td>0</td>\n",
       "      <td>?</td>\n",
       "      <td>0</td>\n",
       "      <td>?</td>\n",
       "      <td>U</td>\n",
       "    </tr>\n",
       "    <tr>\n",
       "      <th>895</th>\n",
       "      <td>?</td>\n",
       "      <td>C</td>\n",
       "      <td>A</td>\n",
       "      <td>NaN</td>\n",
       "      <td>0</td>\n",
       "      <td>T</td>\n",
       "      <td>?</td>\n",
       "      <td>?</td>\n",
       "      <td>0</td>\n",
       "      <td>?</td>\n",
       "      <td>...</td>\n",
       "      <td>?</td>\n",
       "      <td>?</td>\n",
       "      <td>COIL</td>\n",
       "      <td>NaN</td>\n",
       "      <td>610.0</td>\n",
       "      <td>0</td>\n",
       "      <td>?</td>\n",
       "      <td>500</td>\n",
       "      <td>?</td>\n",
       "      <td>U</td>\n",
       "    </tr>\n",
       "  </tbody>\n",
       "</table>\n",
       "<p>896 rows × 39 columns</p>\n",
       "</div>"
      ],
      "text/plain": [
       "    family product-type steel  carbon  hardness temper_rolling condition  \\\n",
       "0        ?            C     R     0.0         0              ?         S   \n",
       "1        ?            C     R     0.0         0              ?         S   \n",
       "2        ?            C     A     0.0        60              T         ?   \n",
       "3        ?            C     A     0.0        60              T         ?   \n",
       "4        ?            C     A     0.0        45              ?         S   \n",
       "..     ...          ...   ...     ...       ...            ...       ...   \n",
       "891      ?            C     R     NaN         0              ?         S   \n",
       "892      ?            C     R     NaN         0              ?         S   \n",
       "893      ?            C     V     NaN         0              ?         S   \n",
       "894      ?            C     A     NaN         0              T         ?   \n",
       "895      ?            C     A     NaN         0              T         ?   \n",
       "\n",
       "    formability  strength non-ageing  ...  s  p  shape  thick   width  len  \\\n",
       "0             2         0          ?  ...  ?  ?   COIL  3.200   610.0    0   \n",
       "1             2         0          ?  ...  ?  ?  SHEET  0.700  1300.0  762   \n",
       "2             ?         0          ?  ...  ?  ?   COIL  2.801   385.1    0   \n",
       "3             ?         0          ?  ...  ?  ?  SHEET  0.801   255.0  269   \n",
       "4             ?         0          ?  ...  ?  ?   COIL  1.600   610.0    0   \n",
       "..          ...       ...        ...  ... .. ..    ...    ...     ...  ...   \n",
       "891           3         0          ?  ...  ?  ?  SHEET    NaN   610.0  762   \n",
       "892           3         0          ?  ...  ?  ?  SHEET    NaN   830.0  880   \n",
       "893           2         0          ?  ...  ?  ?  SHEET    NaN   150.0  762   \n",
       "894           ?         0          ?  ...  ?  ?   COIL    NaN    20.0    0   \n",
       "895           ?         0          ?  ...  ?  ?   COIL    NaN   610.0    0   \n",
       "\n",
       "    oil bore packing classes  \n",
       "0     ?    0       ?       3  \n",
       "1     ?    0       ?       3  \n",
       "2     ?    0       ?       3  \n",
       "3     ?    0       ?       3  \n",
       "4     ?    0       ?       3  \n",
       "..   ..  ...     ...     ...  \n",
       "891   ?    0       ?       2  \n",
       "892   ?    0       ?       2  \n",
       "893   ?    0       ?       2  \n",
       "894   ?    0       ?       U  \n",
       "895   ?  500       ?       U  \n",
       "\n",
       "[896 rows x 39 columns]"
      ]
     },
     "execution_count": 48,
     "metadata": {},
     "output_type": "execute_result"
    }
   ],
   "source": [
    "df"
   ]
  },
  {
   "cell_type": "markdown",
   "metadata": {},
   "source": [
    "#### By looking at this I can see that some columns have some empty cells, even though original dataser did not have any empty column. Let's test it further"
   ]
  },
  {
   "cell_type": "code",
   "execution_count": 51,
   "metadata": {},
   "outputs": [
    {
     "name": "stdout",
     "output_type": "stream",
     "text": [
      "<class 'pandas.core.frame.DataFrame'>\n",
      "RangeIndex: 896 entries, 0 to 895\n",
      "Data columns (total 39 columns):\n",
      " #   Column                  Non-Null Count  Dtype  \n",
      "---  ------                  --------------  -----  \n",
      " 0   family                  896 non-null    object \n",
      " 1   product-type            896 non-null    object \n",
      " 2   steel                   896 non-null    object \n",
      " 3   carbon                  797 non-null    float64\n",
      " 4   hardness                896 non-null    int64  \n",
      " 5   temper_rolling          896 non-null    object \n",
      " 6   condition               896 non-null    object \n",
      " 7   formability             896 non-null    object \n",
      " 8   strength                896 non-null    int64  \n",
      " 9   non-ageing              896 non-null    object \n",
      " 10  surface-finish          896 non-null    object \n",
      " 11  surface-quality         797 non-null    object \n",
      " 12  enamelability           896 non-null    object \n",
      " 13  bc                      896 non-null    object \n",
      " 14  bf                      896 non-null    object \n",
      " 15  bt                      896 non-null    object \n",
      " 16  bw/me                   896 non-null    object \n",
      " 17  bl                      896 non-null    object \n",
      " 18  m                       896 non-null    object \n",
      " 19  chrom                   896 non-null    object \n",
      " 20  phos                    896 non-null    object \n",
      " 21  cbond                   896 non-null    object \n",
      " 22  marvi                   896 non-null    object \n",
      " 23  exptl                   896 non-null    object \n",
      " 24  ferro                   896 non-null    object \n",
      " 25  corr                    896 non-null    object \n",
      " 26  blue/bright/varn/clean  896 non-null    object \n",
      " 27  lustre                  896 non-null    object \n",
      " 28  jurofm                  896 non-null    object \n",
      " 29  s                       896 non-null    object \n",
      " 30  p                       896 non-null    object \n",
      " 31  shape                   896 non-null    object \n",
      " 32  thick                   797 non-null    float64\n",
      " 33  width                   896 non-null    float64\n",
      " 34  len                     896 non-null    int64  \n",
      " 35  oil                     896 non-null    object \n",
      " 36  bore                    896 non-null    int64  \n",
      " 37  packing                 896 non-null    object \n",
      " 38  classes                 896 non-null    object \n",
      "dtypes: float64(3), int64(4), object(32)\n",
      "memory usage: 273.1+ KB\n"
     ]
    }
   ],
   "source": [
    "df.info()"
   ]
  },
  {
   "cell_type": "markdown",
   "metadata": {},
   "source": [
    "#### Upon closer look I figured out that EXACTLY (3) columns are missing their values i.e. have null values, recall that I deleted EXACTLY (3) columns in start considering that some information was created out of nothing. If you look close you will find out that the columns that are missing values (have NaN) in their records have exactly the same number of values missing that were (should be) there afer joining/merging the datasets. I suspect that the removed columns (which were generated extra) are the ones that have missing values. Now, I would like to know <font color=red>why pandas created new columnsa and and then shifted valuesto these columns, <font color=blue>after <b>pandas.DataFrame.concat()</b>!!!</font>"
   ]
  },
  {
   "cell_type": "code",
   "execution_count": 50,
   "metadata": {},
   "outputs": [
    {
     "data": {
      "text/html": [
       "<div>\n",
       "<style scoped>\n",
       "    .dataframe tbody tr th:only-of-type {\n",
       "        vertical-align: middle;\n",
       "    }\n",
       "\n",
       "    .dataframe tbody tr th {\n",
       "        vertical-align: top;\n",
       "    }\n",
       "\n",
       "    .dataframe thead th {\n",
       "        text-align: right;\n",
       "    }\n",
       "</style>\n",
       "<table border=\"1\" class=\"dataframe\">\n",
       "  <thead>\n",
       "    <tr style=\"text-align: right;\">\n",
       "      <th></th>\n",
       "      <th>carbon</th>\n",
       "      <th>hardness</th>\n",
       "      <th>strength</th>\n",
       "      <th>thick</th>\n",
       "      <th>width</th>\n",
       "      <th>len</th>\n",
       "      <th>bore</th>\n",
       "    </tr>\n",
       "  </thead>\n",
       "  <tbody>\n",
       "    <tr>\n",
       "      <th>count</th>\n",
       "      <td>797.000000</td>\n",
       "      <td>896.000000</td>\n",
       "      <td>896.000000</td>\n",
       "      <td>797.000000</td>\n",
       "      <td>896.000000</td>\n",
       "      <td>896.000000</td>\n",
       "      <td>896.000000</td>\n",
       "    </tr>\n",
       "    <tr>\n",
       "      <th>mean</th>\n",
       "      <td>3.542033</td>\n",
       "      <td>10.946429</td>\n",
       "      <td>30.736607</td>\n",
       "      <td>1.182452</td>\n",
       "      <td>781.034263</td>\n",
       "      <td>1265.914062</td>\n",
       "      <td>28.236607</td>\n",
       "    </tr>\n",
       "    <tr>\n",
       "      <th>std</th>\n",
       "      <td>13.600262</td>\n",
       "      <td>23.853637</td>\n",
       "      <td>115.075461</td>\n",
       "      <td>0.861979</td>\n",
       "      <td>405.717963</td>\n",
       "      <td>1872.535047</td>\n",
       "      <td>124.692309</td>\n",
       "    </tr>\n",
       "    <tr>\n",
       "      <th>min</th>\n",
       "      <td>0.000000</td>\n",
       "      <td>0.000000</td>\n",
       "      <td>0.000000</td>\n",
       "      <td>0.250000</td>\n",
       "      <td>0.000000</td>\n",
       "      <td>0.000000</td>\n",
       "      <td>0.000000</td>\n",
       "    </tr>\n",
       "    <tr>\n",
       "      <th>25%</th>\n",
       "      <td>0.000000</td>\n",
       "      <td>0.000000</td>\n",
       "      <td>0.000000</td>\n",
       "      <td>0.601000</td>\n",
       "      <td>609.900000</td>\n",
       "      <td>0.000000</td>\n",
       "      <td>0.000000</td>\n",
       "    </tr>\n",
       "    <tr>\n",
       "      <th>50%</th>\n",
       "      <td>0.000000</td>\n",
       "      <td>0.000000</td>\n",
       "      <td>0.000000</td>\n",
       "      <td>0.800000</td>\n",
       "      <td>610.000000</td>\n",
       "      <td>611.500000</td>\n",
       "      <td>0.000000</td>\n",
       "    </tr>\n",
       "    <tr>\n",
       "      <th>75%</th>\n",
       "      <td>0.000000</td>\n",
       "      <td>0.000000</td>\n",
       "      <td>0.000000</td>\n",
       "      <td>1.600000</td>\n",
       "      <td>1250.000000</td>\n",
       "      <td>762.000000</td>\n",
       "      <td>0.000000</td>\n",
       "    </tr>\n",
       "    <tr>\n",
       "      <th>max</th>\n",
       "      <td>70.000000</td>\n",
       "      <td>85.000000</td>\n",
       "      <td>700.000000</td>\n",
       "      <td>4.000000</td>\n",
       "      <td>1525.000000</td>\n",
       "      <td>4880.000000</td>\n",
       "      <td>600.000000</td>\n",
       "    </tr>\n",
       "  </tbody>\n",
       "</table>\n",
       "</div>"
      ],
      "text/plain": [
       "           carbon    hardness    strength       thick        width  \\\n",
       "count  797.000000  896.000000  896.000000  797.000000   896.000000   \n",
       "mean     3.542033   10.946429   30.736607    1.182452   781.034263   \n",
       "std     13.600262   23.853637  115.075461    0.861979   405.717963   \n",
       "min      0.000000    0.000000    0.000000    0.250000     0.000000   \n",
       "25%      0.000000    0.000000    0.000000    0.601000   609.900000   \n",
       "50%      0.000000    0.000000    0.000000    0.800000   610.000000   \n",
       "75%      0.000000    0.000000    0.000000    1.600000  1250.000000   \n",
       "max     70.000000   85.000000  700.000000    4.000000  1525.000000   \n",
       "\n",
       "               len        bore  \n",
       "count   896.000000  896.000000  \n",
       "mean   1265.914062   28.236607  \n",
       "std    1872.535047  124.692309  \n",
       "min       0.000000    0.000000  \n",
       "25%       0.000000    0.000000  \n",
       "50%     611.500000    0.000000  \n",
       "75%     762.000000    0.000000  \n",
       "max    4880.000000  600.000000  "
      ]
     },
     "execution_count": 50,
     "metadata": {},
     "output_type": "execute_result"
    }
   ],
   "source": [
    "df.describe()"
   ]
  },
  {
   "cell_type": "code",
   "execution_count": 52,
   "metadata": {},
   "outputs": [
    {
     "name": "stdout",
     "output_type": "stream",
     "text": [
      "<class 'pandas.core.frame.DataFrame'>\n",
      "Int64Index: 896 entries, 0 to 98\n",
      "Data columns (total 42 columns):\n",
      " #   Column  Non-Null Count  Dtype  \n",
      "---  ------  --------------  -----  \n",
      " 0   ?       896 non-null    object \n",
      " 1   C       896 non-null    object \n",
      " 2   A       896 non-null    object \n",
      " 3   08      797 non-null    float64\n",
      " 4   00      896 non-null    int64  \n",
      " 5   ?.1     896 non-null    object \n",
      " 6   S       896 non-null    object \n",
      " 7   ?.2     896 non-null    object \n",
      " 8   000     896 non-null    int64  \n",
      " 9   ?.3     896 non-null    object \n",
      " 10  ?.4     896 non-null    object \n",
      " 11  G       797 non-null    object \n",
      " 12  ?.5     896 non-null    object \n",
      " 13  ?.6     896 non-null    object \n",
      " 14  ?.7     896 non-null    object \n",
      " 15  ?.8     896 non-null    object \n",
      " 16  ?.9     896 non-null    object \n",
      " 17  ?.10    896 non-null    object \n",
      " 18  ?.11    896 non-null    object \n",
      " 19  ?.12    896 non-null    object \n",
      " 20  ?.13    896 non-null    object \n",
      " 21  ?.14    896 non-null    object \n",
      " 22  ?.15    896 non-null    object \n",
      " 23  ?.16    896 non-null    object \n",
      " 24  ?.17    896 non-null    object \n",
      " 25  ?.18    896 non-null    object \n",
      " 26  ?.19    896 non-null    object \n",
      " 27  ?.20    896 non-null    object \n",
      " 28  ?.21    896 non-null    object \n",
      " 29  ?.22    896 non-null    object \n",
      " 30  ?.23    896 non-null    object \n",
      " 31  COIL    896 non-null    object \n",
      " 32  0.700   797 non-null    float64\n",
      " 33  0610.0  896 non-null    float64\n",
      " 34  0000    896 non-null    int64  \n",
      " 35  ?.24    896 non-null    object \n",
      " 36  0000.1  896 non-null    int64  \n",
      " 37  ?.25    896 non-null    object \n",
      " 38  3       896 non-null    object \n",
      " 39  45      99 non-null     float64\n",
      " 40  D       99 non-null     object \n",
      " 41  1.600   99 non-null     float64\n",
      "dtypes: float64(5), int64(4), object(33)\n",
      "memory usage: 301.0+ KB\n"
     ]
    }
   ],
   "source": [
    "# Let's merge again\n",
    "dt = train.append(test)\n",
    "dt.info()"
   ]
  },
  {
   "cell_type": "markdown",
   "metadata": {},
   "source": [
    "##### as expected it created three new columns by taking data from three columns from test dataset,let's try to put these cells back into respective columns. First let's create a copy of dt (dataframe) so that in case of a problem we can still accesss our dt dataset."
   ]
  },
  {
   "cell_type": "markdown",
   "metadata": {},
   "source": [
    "#### Also <b> ALWAYS</b> try to use deep copy for this purpose so that change in our dataframe does not affect our copy. You can read more about shallow copy [here](/copy.html#:~:text=A%20shallow%20copy%20constructs%20a,objects%20found%20in%20the%20original) <font color='red'><b>This is official</font><font color=green> python 3.9</font> doc\n",
    "<img src=\"https://media.geeksforgeeks.org/wp-content/uploads/deep-copy.jpg\"></img>\n",
    "<img src=\"https://media.geeksforgeeks.org/wp-content/uploads/shallow-copy.jpg\">"
   ]
  },
  {
   "cell_type": "code",
   "execution_count": 56,
   "metadata": {},
   "outputs": [
    {
     "name": "stdout",
     "output_type": "stream",
     "text": [
      "<class 'pandas.core.frame.DataFrame'>\n",
      "Int64Index: 896 entries, 0 to 98\n",
      "Data columns (total 42 columns):\n",
      " #   Column  Non-Null Count  Dtype  \n",
      "---  ------  --------------  -----  \n",
      " 0   ?       896 non-null    object \n",
      " 1   C       896 non-null    object \n",
      " 2   A       896 non-null    object \n",
      " 3   08      797 non-null    float64\n",
      " 4   00      896 non-null    int64  \n",
      " 5   ?.1     896 non-null    object \n",
      " 6   S       896 non-null    object \n",
      " 7   ?.2     896 non-null    object \n",
      " 8   000     896 non-null    int64  \n",
      " 9   ?.3     896 non-null    object \n",
      " 10  ?.4     896 non-null    object \n",
      " 11  G       797 non-null    object \n",
      " 12  ?.5     896 non-null    object \n",
      " 13  ?.6     896 non-null    object \n",
      " 14  ?.7     896 non-null    object \n",
      " 15  ?.8     896 non-null    object \n",
      " 16  ?.9     896 non-null    object \n",
      " 17  ?.10    896 non-null    object \n",
      " 18  ?.11    896 non-null    object \n",
      " 19  ?.12    896 non-null    object \n",
      " 20  ?.13    896 non-null    object \n",
      " 21  ?.14    896 non-null    object \n",
      " 22  ?.15    896 non-null    object \n",
      " 23  ?.16    896 non-null    object \n",
      " 24  ?.17    896 non-null    object \n",
      " 25  ?.18    896 non-null    object \n",
      " 26  ?.19    896 non-null    object \n",
      " 27  ?.20    896 non-null    object \n",
      " 28  ?.21    896 non-null    object \n",
      " 29  ?.22    896 non-null    object \n",
      " 30  ?.23    896 non-null    object \n",
      " 31  COIL    896 non-null    object \n",
      " 32  0.700   797 non-null    float64\n",
      " 33  0610.0  896 non-null    float64\n",
      " 34  0000    896 non-null    int64  \n",
      " 35  ?.24    896 non-null    object \n",
      " 36  0000.1  896 non-null    int64  \n",
      " 37  ?.25    896 non-null    object \n",
      " 38  3       896 non-null    object \n",
      " 39  45      99 non-null     float64\n",
      " 40  D       99 non-null     object \n",
      " 41  1.600   99 non-null     float64\n",
      "dtypes: float64(5), int64(4), object(33)\n",
      "memory usage: 301.0+ KB\n"
     ]
    }
   ],
   "source": [
    "import copy as cp\n",
    "df = cp.copy(dt)\n",
    "df.info()"
   ]
  },
  {
   "cell_type": "markdown",
   "metadata": {},
   "source": [
    "#### And we're back at the square ONE but it is a good thing, now we know what to do and how we can preserve data"
   ]
  },
  {
   "cell_type": "code",
   "execution_count": 63,
   "metadata": {},
   "outputs": [
    {
     "data": {
      "text/plain": [
       "896"
      ]
     },
     "execution_count": 63,
     "metadata": {},
     "output_type": "execute_result"
    }
   ],
   "source": [
    "dt.iloc[:,39]"
   ]
  },
  {
   "cell_type": "code",
   "execution_count": 65,
   "metadata": {},
   "outputs": [],
   "source": [
    "import numpy as np"
   ]
  },
  {
   "cell_type": "code",
   "execution_count": 69,
   "metadata": {},
   "outputs": [
    {
     "data": {
      "text/plain": [
       "(array([  0,   1,   2,   3,   4,   5,   6,   7,   8,   9,  10,  11,  12,\n",
       "         13,  14,  15,  16,  17,  18,  19,  20,  21,  22,  23,  24,  25,\n",
       "         26,  27,  28,  29,  30,  31,  32,  33,  34,  35,  36,  37,  38,\n",
       "         39,  40,  41,  42,  43,  44,  45,  46,  47,  48,  49,  50,  51,\n",
       "         52,  53,  54,  55,  56,  57,  58,  59,  60,  61,  62,  63,  64,\n",
       "         65,  66,  67,  68,  69,  70,  71,  72,  73,  74,  75,  76,  77,\n",
       "         78,  79,  80,  81,  82,  83,  84,  85,  86,  87,  88,  89,  90,\n",
       "         91,  92,  93,  94,  95,  96,  97,  98,  99, 100, 101, 102, 103,\n",
       "        104, 105, 106, 107, 108, 109, 110, 111, 112, 113, 114, 115, 116,\n",
       "        117, 118, 119, 120, 121, 122, 123, 124, 125, 126, 127, 128, 129,\n",
       "        130, 131, 132, 133, 134, 135, 136, 137, 138, 139, 140, 141, 142,\n",
       "        143, 144, 145, 146, 147, 148, 149, 150, 151, 152, 153, 154, 155,\n",
       "        156, 157, 158, 159, 160, 161, 162, 163, 164, 165, 166, 167, 168,\n",
       "        169, 170, 171, 172, 173, 174, 175, 176, 177, 178, 179, 180, 181,\n",
       "        182, 183, 184, 185, 186, 187, 188, 189, 190, 191, 192, 193, 194,\n",
       "        195, 196, 197, 198, 199, 200, 201, 202, 203, 204, 205, 206, 207,\n",
       "        208, 209, 210, 211, 212, 213, 214, 215, 216, 217, 218, 219, 220,\n",
       "        221, 222, 223, 224, 225, 226, 227, 228, 229, 230, 231, 232, 233,\n",
       "        234, 235, 236, 237, 238, 239, 240, 241, 242, 243, 244, 245, 246,\n",
       "        247, 248, 249, 250, 251, 252, 253, 254, 255, 256, 257, 258, 259,\n",
       "        260, 261, 262, 263, 264, 265, 266, 267, 268, 269, 270, 271, 272,\n",
       "        273, 274, 275, 276, 277, 278, 279, 280, 281, 282, 283, 284, 285,\n",
       "        286, 287, 288, 289, 290, 291, 292, 293, 294, 295, 296, 297, 298,\n",
       "        299, 300, 301, 302, 303, 304, 305, 306, 307, 308, 309, 310, 311,\n",
       "        312, 313, 314, 315, 316, 317, 318, 319, 320, 321, 322, 323, 324,\n",
       "        325, 326, 327, 328, 329, 330, 331, 332, 333, 334, 335, 336, 337,\n",
       "        338, 339, 340, 341, 342, 343, 344, 345, 346, 347, 348, 349, 350,\n",
       "        351, 352, 353, 354, 355, 356, 357, 358, 359, 360, 361, 362, 363,\n",
       "        364, 365, 366, 367, 368, 369, 370, 371, 372, 373, 374, 375, 376,\n",
       "        377, 378, 379, 380, 381, 382, 383, 384, 385, 386, 387, 388, 389,\n",
       "        390, 391, 392, 393, 394, 395, 396, 397, 398, 399, 400, 401, 402,\n",
       "        403, 404, 405, 406, 407, 408, 409, 410, 411, 412, 413, 414, 415,\n",
       "        416, 417, 418, 419, 420, 421, 422, 423, 424, 425, 426, 427, 428,\n",
       "        429, 430, 431, 432, 433, 434, 435, 436, 437, 438, 439, 440, 441,\n",
       "        442, 443, 444, 445, 446, 447, 448, 449, 450, 451, 452, 453, 454,\n",
       "        455, 456, 457, 458, 459, 460, 461, 462, 463, 464, 465, 466, 467,\n",
       "        468, 469, 470, 471, 472, 473, 474, 475, 476, 477, 478, 479, 480,\n",
       "        481, 482, 483, 484, 485, 486, 487, 488, 489, 490, 491, 492, 493,\n",
       "        494, 495, 496, 497, 498, 499, 500, 501, 502, 503, 504, 505, 506,\n",
       "        507, 508, 509, 510, 511, 512, 513, 514, 515, 516, 517, 518, 519,\n",
       "        520, 521, 522, 523, 524, 525, 526, 527, 528, 529, 530, 531, 532,\n",
       "        533, 534, 535, 536, 537, 538, 539, 540, 541, 542, 543, 544, 545,\n",
       "        546, 547, 548, 549, 550, 551, 552, 553, 554, 555, 556, 557, 558,\n",
       "        559, 560, 561, 562, 563, 564, 565, 566, 567, 568, 569, 570, 571,\n",
       "        572, 573, 574, 575, 576, 577, 578, 579, 580, 581, 582, 583, 584,\n",
       "        585, 586, 587, 588, 589, 590, 591, 592, 593, 594, 595, 596, 597,\n",
       "        598, 599, 600, 601, 602, 603, 604, 605, 606, 607, 608, 609, 610,\n",
       "        611, 612, 613, 614, 615, 616, 617, 618, 619, 620, 621, 622, 623,\n",
       "        624, 625, 626, 627, 628, 629, 630, 631, 632, 633, 634, 635, 636,\n",
       "        637, 638, 639, 640, 641, 642, 643, 644, 645, 646, 647, 648, 649,\n",
       "        650, 651, 652, 653, 654, 655, 656, 657, 658, 659, 660, 661, 662,\n",
       "        663, 664, 665, 666, 667, 668, 669, 670, 671, 672, 673, 674, 675,\n",
       "        676, 677, 678, 679, 680, 681, 682, 683, 684, 685, 686, 687, 688,\n",
       "        689, 690, 691, 692, 693, 694, 695, 696, 697, 698, 699, 700, 701,\n",
       "        702, 703, 704, 705, 706, 707, 708, 709, 710, 711, 712, 713, 714,\n",
       "        715, 716, 717, 718, 719, 720, 721, 722, 723, 724, 725, 726, 727,\n",
       "        728, 729, 730, 731, 732, 733, 734, 735, 736, 737, 738, 739, 740,\n",
       "        741, 742, 743, 744, 745, 746, 747, 748, 749, 750, 751, 752, 753,\n",
       "        754, 755, 756, 757, 758, 759, 760, 761, 762, 763, 764, 765, 766,\n",
       "        767, 768, 769, 770, 771, 772, 773, 774, 775, 776, 777, 778, 779,\n",
       "        780, 781, 782, 783, 784, 785, 786, 787, 788, 789, 790, 791, 792,\n",
       "        793, 794, 795, 796]),)"
      ]
     },
     "execution_count": 69,
     "metadata": {},
     "output_type": "execute_result"
    }
   ],
   "source": [
    "np.where(pd.isnull(dt.iloc[:,39]))"
   ]
  },
  {
   "cell_type": "markdown",
   "metadata": {},
   "source": [
    "#### This is not much help as I can't count the numbers where data is non empty, one solution is to pick data from test dataset and impute it here (in our dataset) or use the formula below"
   ]
  },
  {
   "cell_type": "markdown",
   "metadata": {},
   "source": [
    "```python\n",
    "df.applymap(np.isreal)\n",
    "df.applymap(np.isreal).all(1)\n",
    "```\n",
    "neither of the formulae are working so let's do it traditional way"
   ]
  },
  {
   "cell_type": "markdown",
   "metadata": {},
   "source": [
    "[Section title](#division_ID)"
   ]
  },
  {
   "cell_type": "code",
   "execution_count": 80,
   "metadata": {},
   "outputs": [
    {
     "name": "stdout",
     "output_type": "stream",
     "text": [
      "<class 'pandas.core.frame.DataFrame'>\n",
      "Int64Index: 896 entries, 0 to 98\n",
      "Data columns (total 42 columns):\n",
      " #   Column  Non-Null Count  Dtype  \n",
      "---  ------  --------------  -----  \n",
      " 0   ?       896 non-null    object \n",
      " 1   C       896 non-null    object \n",
      " 2   A       896 non-null    object \n",
      " 3   08      797 non-null    float64\n",
      " 4   00      896 non-null    int64  \n",
      " 5   ?.1     896 non-null    object \n",
      " 6   S       896 non-null    object \n",
      " 7   ?.2     896 non-null    object \n",
      " 8   000     896 non-null    int64  \n",
      " 9   ?.3     896 non-null    object \n",
      " 10  ?.4     896 non-null    object \n",
      " 11  G       797 non-null    object \n",
      " 12  ?.5     896 non-null    object \n",
      " 13  ?.6     896 non-null    object \n",
      " 14  ?.7     896 non-null    object \n",
      " 15  ?.8     896 non-null    object \n",
      " 16  ?.9     896 non-null    object \n",
      " 17  ?.10    896 non-null    object \n",
      " 18  ?.11    896 non-null    object \n",
      " 19  ?.12    896 non-null    object \n",
      " 20  ?.13    896 non-null    object \n",
      " 21  ?.14    896 non-null    object \n",
      " 22  ?.15    896 non-null    object \n",
      " 23  ?.16    896 non-null    object \n",
      " 24  ?.17    896 non-null    object \n",
      " 25  ?.18    896 non-null    object \n",
      " 26  ?.19    896 non-null    object \n",
      " 27  ?.20    896 non-null    object \n",
      " 28  ?.21    896 non-null    object \n",
      " 29  ?.22    896 non-null    object \n",
      " 30  ?.23    896 non-null    object \n",
      " 31  COIL    896 non-null    object \n",
      " 32  0.700   797 non-null    float64\n",
      " 33  0610.0  896 non-null    float64\n",
      " 34  0000    896 non-null    int64  \n",
      " 35  ?.24    896 non-null    object \n",
      " 36  0000.1  896 non-null    int64  \n",
      " 37  ?.25    896 non-null    object \n",
      " 38  3       896 non-null    object \n",
      " 39  45      99 non-null     float64\n",
      " 40  D       99 non-null     object \n",
      " 41  1.600   99 non-null     float64\n",
      "dtypes: float64(5), int64(4), object(33)\n",
      "memory usage: 301.0+ KB\n"
     ]
    }
   ],
   "source": [
    "dt.info()"
   ]
  },
  {
   "cell_type": "code",
   "execution_count": 84,
   "metadata": {},
   "outputs": [
    {
     "name": "stdout",
     "output_type": "stream",
     "text": [
      "<class 'pandas.core.frame.DataFrame'>\n",
      "Int64Index: 896 entries, 0 to 98\n",
      "Data columns (total 42 columns):\n",
      " #   Column  Non-Null Count  Dtype  \n",
      "---  ------  --------------  -----  \n",
      " 0   ?       896 non-null    object \n",
      " 1   C       896 non-null    object \n",
      " 2   A       896 non-null    object \n",
      " 3   08      896 non-null    float64\n",
      " 4   00      896 non-null    int64  \n",
      " 5   ?.1     896 non-null    object \n",
      " 6   S       896 non-null    object \n",
      " 7   ?.2     896 non-null    object \n",
      " 8   000     896 non-null    int64  \n",
      " 9   ?.3     896 non-null    object \n",
      " 10  ?.4     896 non-null    object \n",
      " 11  G       896 non-null    object \n",
      " 12  ?.5     896 non-null    object \n",
      " 13  ?.6     896 non-null    object \n",
      " 14  ?.7     896 non-null    object \n",
      " 15  ?.8     896 non-null    object \n",
      " 16  ?.9     896 non-null    object \n",
      " 17  ?.10    896 non-null    object \n",
      " 18  ?.11    896 non-null    object \n",
      " 19  ?.12    896 non-null    object \n",
      " 20  ?.13    896 non-null    object \n",
      " 21  ?.14    896 non-null    object \n",
      " 22  ?.15    896 non-null    object \n",
      " 23  ?.16    896 non-null    object \n",
      " 24  ?.17    896 non-null    object \n",
      " 25  ?.18    896 non-null    object \n",
      " 26  ?.19    896 non-null    object \n",
      " 27  ?.20    896 non-null    object \n",
      " 28  ?.21    896 non-null    object \n",
      " 29  ?.22    896 non-null    object \n",
      " 30  ?.23    896 non-null    object \n",
      " 31  COIL    896 non-null    object \n",
      " 32  0.700   896 non-null    float64\n",
      " 33  0610.0  896 non-null    float64\n",
      " 34  0000    896 non-null    int64  \n",
      " 35  ?.24    896 non-null    object \n",
      " 36  0000.1  896 non-null    int64  \n",
      " 37  ?.25    896 non-null    object \n",
      " 38  3       896 non-null    object \n",
      " 39  45      99 non-null     float64\n",
      " 40  D       99 non-null     object \n",
      " 41  1.600   99 non-null     float64\n",
      "dtypes: float64(5), int64(4), object(33)\n",
      "memory usage: 301.0+ KB\n"
     ]
    }
   ],
   "source": [
    "df.iloc[797:,3] = test.iloc[:,3]\n",
    "df.iloc[797:,11] = test.iloc[:,11]\n",
    "df.iloc[797:,32] = test.iloc[:,32]\n",
    "df.info()"
   ]
  },
  {
   "cell_type": "code",
   "execution_count": 96,
   "metadata": {},
   "outputs": [
    {
     "data": {
      "text/html": [
       "<div>\n",
       "<style scoped>\n",
       "    .dataframe tbody tr th:only-of-type {\n",
       "        vertical-align: middle;\n",
       "    }\n",
       "\n",
       "    .dataframe tbody tr th {\n",
       "        vertical-align: top;\n",
       "    }\n",
       "\n",
       "    .dataframe thead th {\n",
       "        text-align: right;\n",
       "    }\n",
       "</style>\n",
       "<table border=\"1\" class=\"dataframe\">\n",
       "  <thead>\n",
       "    <tr style=\"text-align: right;\">\n",
       "      <th></th>\n",
       "      <th>?</th>\n",
       "      <th>C</th>\n",
       "      <th>A</th>\n",
       "      <th>08</th>\n",
       "      <th>00</th>\n",
       "      <th>?.1</th>\n",
       "      <th>S</th>\n",
       "      <th>?.2</th>\n",
       "      <th>000</th>\n",
       "      <th>?.3</th>\n",
       "      <th>...</th>\n",
       "      <th>0.700</th>\n",
       "      <th>0610.0</th>\n",
       "      <th>0000</th>\n",
       "      <th>?.24</th>\n",
       "      <th>0000.1</th>\n",
       "      <th>?.25</th>\n",
       "      <th>3</th>\n",
       "      <th>45</th>\n",
       "      <th>D</th>\n",
       "      <th>1.600</th>\n",
       "    </tr>\n",
       "  </thead>\n",
       "  <tbody>\n",
       "    <tr>\n",
       "      <th>0</th>\n",
       "      <td>?</td>\n",
       "      <td>C</td>\n",
       "      <td>R</td>\n",
       "      <td>0.0</td>\n",
       "      <td>0</td>\n",
       "      <td>?</td>\n",
       "      <td>S</td>\n",
       "      <td>2</td>\n",
       "      <td>0</td>\n",
       "      <td>?</td>\n",
       "      <td>...</td>\n",
       "      <td>3.200</td>\n",
       "      <td>610.0</td>\n",
       "      <td>0</td>\n",
       "      <td>?</td>\n",
       "      <td>0</td>\n",
       "      <td>?</td>\n",
       "      <td>3</td>\n",
       "      <td>NaN</td>\n",
       "      <td>NaN</td>\n",
       "      <td>NaN</td>\n",
       "    </tr>\n",
       "    <tr>\n",
       "      <th>1</th>\n",
       "      <td>?</td>\n",
       "      <td>C</td>\n",
       "      <td>R</td>\n",
       "      <td>0.0</td>\n",
       "      <td>0</td>\n",
       "      <td>?</td>\n",
       "      <td>S</td>\n",
       "      <td>2</td>\n",
       "      <td>0</td>\n",
       "      <td>?</td>\n",
       "      <td>...</td>\n",
       "      <td>0.700</td>\n",
       "      <td>1300.0</td>\n",
       "      <td>762</td>\n",
       "      <td>?</td>\n",
       "      <td>0</td>\n",
       "      <td>?</td>\n",
       "      <td>3</td>\n",
       "      <td>NaN</td>\n",
       "      <td>NaN</td>\n",
       "      <td>NaN</td>\n",
       "    </tr>\n",
       "    <tr>\n",
       "      <th>2</th>\n",
       "      <td>?</td>\n",
       "      <td>C</td>\n",
       "      <td>A</td>\n",
       "      <td>0.0</td>\n",
       "      <td>60</td>\n",
       "      <td>T</td>\n",
       "      <td>?</td>\n",
       "      <td>?</td>\n",
       "      <td>0</td>\n",
       "      <td>?</td>\n",
       "      <td>...</td>\n",
       "      <td>2.801</td>\n",
       "      <td>385.1</td>\n",
       "      <td>0</td>\n",
       "      <td>?</td>\n",
       "      <td>0</td>\n",
       "      <td>?</td>\n",
       "      <td>3</td>\n",
       "      <td>NaN</td>\n",
       "      <td>NaN</td>\n",
       "      <td>NaN</td>\n",
       "    </tr>\n",
       "    <tr>\n",
       "      <th>3</th>\n",
       "      <td>?</td>\n",
       "      <td>C</td>\n",
       "      <td>A</td>\n",
       "      <td>0.0</td>\n",
       "      <td>60</td>\n",
       "      <td>T</td>\n",
       "      <td>?</td>\n",
       "      <td>?</td>\n",
       "      <td>0</td>\n",
       "      <td>?</td>\n",
       "      <td>...</td>\n",
       "      <td>0.801</td>\n",
       "      <td>255.0</td>\n",
       "      <td>269</td>\n",
       "      <td>?</td>\n",
       "      <td>0</td>\n",
       "      <td>?</td>\n",
       "      <td>3</td>\n",
       "      <td>NaN</td>\n",
       "      <td>NaN</td>\n",
       "      <td>NaN</td>\n",
       "    </tr>\n",
       "    <tr>\n",
       "      <th>4</th>\n",
       "      <td>?</td>\n",
       "      <td>C</td>\n",
       "      <td>A</td>\n",
       "      <td>0.0</td>\n",
       "      <td>45</td>\n",
       "      <td>?</td>\n",
       "      <td>S</td>\n",
       "      <td>?</td>\n",
       "      <td>0</td>\n",
       "      <td>?</td>\n",
       "      <td>...</td>\n",
       "      <td>1.600</td>\n",
       "      <td>610.0</td>\n",
       "      <td>0</td>\n",
       "      <td>?</td>\n",
       "      <td>0</td>\n",
       "      <td>?</td>\n",
       "      <td>3</td>\n",
       "      <td>NaN</td>\n",
       "      <td>NaN</td>\n",
       "      <td>NaN</td>\n",
       "    </tr>\n",
       "    <tr>\n",
       "      <th>...</th>\n",
       "      <td>...</td>\n",
       "      <td>...</td>\n",
       "      <td>...</td>\n",
       "      <td>...</td>\n",
       "      <td>...</td>\n",
       "      <td>...</td>\n",
       "      <td>...</td>\n",
       "      <td>...</td>\n",
       "      <td>...</td>\n",
       "      <td>...</td>\n",
       "      <td>...</td>\n",
       "      <td>...</td>\n",
       "      <td>...</td>\n",
       "      <td>...</td>\n",
       "      <td>...</td>\n",
       "      <td>...</td>\n",
       "      <td>...</td>\n",
       "      <td>...</td>\n",
       "      <td>...</td>\n",
       "      <td>...</td>\n",
       "      <td>...</td>\n",
       "    </tr>\n",
       "    <tr>\n",
       "      <th>94</th>\n",
       "      <td>?</td>\n",
       "      <td>C</td>\n",
       "      <td>R</td>\n",
       "      <td>0.0</td>\n",
       "      <td>0</td>\n",
       "      <td>?</td>\n",
       "      <td>S</td>\n",
       "      <td>3</td>\n",
       "      <td>0</td>\n",
       "      <td>?</td>\n",
       "      <td>...</td>\n",
       "      <td>1.599</td>\n",
       "      <td>610.0</td>\n",
       "      <td>762</td>\n",
       "      <td>?</td>\n",
       "      <td>0</td>\n",
       "      <td>?</td>\n",
       "      <td>2</td>\n",
       "      <td>0.0</td>\n",
       "      <td>?</td>\n",
       "      <td>1.599</td>\n",
       "    </tr>\n",
       "    <tr>\n",
       "      <th>95</th>\n",
       "      <td>?</td>\n",
       "      <td>C</td>\n",
       "      <td>R</td>\n",
       "      <td>0.0</td>\n",
       "      <td>0</td>\n",
       "      <td>?</td>\n",
       "      <td>S</td>\n",
       "      <td>3</td>\n",
       "      <td>0</td>\n",
       "      <td>?</td>\n",
       "      <td>...</td>\n",
       "      <td>1.601</td>\n",
       "      <td>830.0</td>\n",
       "      <td>880</td>\n",
       "      <td>?</td>\n",
       "      <td>0</td>\n",
       "      <td>?</td>\n",
       "      <td>2</td>\n",
       "      <td>0.0</td>\n",
       "      <td>?</td>\n",
       "      <td>1.601</td>\n",
       "    </tr>\n",
       "    <tr>\n",
       "      <th>96</th>\n",
       "      <td>?</td>\n",
       "      <td>C</td>\n",
       "      <td>V</td>\n",
       "      <td>0.0</td>\n",
       "      <td>0</td>\n",
       "      <td>?</td>\n",
       "      <td>S</td>\n",
       "      <td>2</td>\n",
       "      <td>0</td>\n",
       "      <td>?</td>\n",
       "      <td>...</td>\n",
       "      <td>1.599</td>\n",
       "      <td>150.0</td>\n",
       "      <td>762</td>\n",
       "      <td>?</td>\n",
       "      <td>0</td>\n",
       "      <td>?</td>\n",
       "      <td>2</td>\n",
       "      <td>0.0</td>\n",
       "      <td>?</td>\n",
       "      <td>1.599</td>\n",
       "    </tr>\n",
       "    <tr>\n",
       "      <th>97</th>\n",
       "      <td>?</td>\n",
       "      <td>C</td>\n",
       "      <td>A</td>\n",
       "      <td>0.0</td>\n",
       "      <td>0</td>\n",
       "      <td>T</td>\n",
       "      <td>?</td>\n",
       "      <td>?</td>\n",
       "      <td>0</td>\n",
       "      <td>?</td>\n",
       "      <td>...</td>\n",
       "      <td>0.400</td>\n",
       "      <td>20.0</td>\n",
       "      <td>0</td>\n",
       "      <td>?</td>\n",
       "      <td>0</td>\n",
       "      <td>?</td>\n",
       "      <td>U</td>\n",
       "      <td>85.0</td>\n",
       "      <td>G</td>\n",
       "      <td>0.400</td>\n",
       "    </tr>\n",
       "    <tr>\n",
       "      <th>98</th>\n",
       "      <td>?</td>\n",
       "      <td>C</td>\n",
       "      <td>A</td>\n",
       "      <td>0.0</td>\n",
       "      <td>0</td>\n",
       "      <td>T</td>\n",
       "      <td>?</td>\n",
       "      <td>?</td>\n",
       "      <td>0</td>\n",
       "      <td>?</td>\n",
       "      <td>...</td>\n",
       "      <td>4.000</td>\n",
       "      <td>610.0</td>\n",
       "      <td>0</td>\n",
       "      <td>?</td>\n",
       "      <td>500</td>\n",
       "      <td>?</td>\n",
       "      <td>U</td>\n",
       "      <td>85.0</td>\n",
       "      <td>G</td>\n",
       "      <td>4.000</td>\n",
       "    </tr>\n",
       "  </tbody>\n",
       "</table>\n",
       "<p>896 rows × 42 columns</p>\n",
       "</div>"
      ],
      "text/plain": [
       "    ?  C  A   08  00 ?.1  S ?.2  000 ?.3  ...  0.700  0610.0 0000 ?.24 0000.1  \\\n",
       "0   ?  C  R  0.0   0   ?  S   2    0   ?  ...  3.200   610.0    0    ?      0   \n",
       "1   ?  C  R  0.0   0   ?  S   2    0   ?  ...  0.700  1300.0  762    ?      0   \n",
       "2   ?  C  A  0.0  60   T  ?   ?    0   ?  ...  2.801   385.1    0    ?      0   \n",
       "3   ?  C  A  0.0  60   T  ?   ?    0   ?  ...  0.801   255.0  269    ?      0   \n",
       "4   ?  C  A  0.0  45   ?  S   ?    0   ?  ...  1.600   610.0    0    ?      0   \n",
       ".. .. .. ..  ...  ..  .. ..  ..  ...  ..  ...    ...     ...  ...  ...    ...   \n",
       "94  ?  C  R  0.0   0   ?  S   3    0   ?  ...  1.599   610.0  762    ?      0   \n",
       "95  ?  C  R  0.0   0   ?  S   3    0   ?  ...  1.601   830.0  880    ?      0   \n",
       "96  ?  C  V  0.0   0   ?  S   2    0   ?  ...  1.599   150.0  762    ?      0   \n",
       "97  ?  C  A  0.0   0   T  ?   ?    0   ?  ...  0.400    20.0    0    ?      0   \n",
       "98  ?  C  A  0.0   0   T  ?   ?    0   ?  ...  4.000   610.0    0    ?    500   \n",
       "\n",
       "   ?.25  3    45    D  1.600  \n",
       "0     ?  3   NaN  NaN    NaN  \n",
       "1     ?  3   NaN  NaN    NaN  \n",
       "2     ?  3   NaN  NaN    NaN  \n",
       "3     ?  3   NaN  NaN    NaN  \n",
       "4     ?  3   NaN  NaN    NaN  \n",
       "..  ... ..   ...  ...    ...  \n",
       "94    ?  2   0.0    ?  1.599  \n",
       "95    ?  2   0.0    ?  1.601  \n",
       "96    ?  2   0.0    ?  1.599  \n",
       "97    ?  U  85.0    G  0.400  \n",
       "98    ?  U  85.0    G  4.000  \n",
       "\n",
       "[896 rows x 42 columns]"
      ]
     },
     "execution_count": 96,
     "metadata": {},
     "output_type": "execute_result"
    }
   ],
   "source": [
    "# df.iloc[:-96,:3] == test.iloc[:96,3]\n",
    "df"
   ]
  },
  {
   "cell_type": "code",
   "execution_count": 97,
   "metadata": {},
   "outputs": [
    {
     "name": "stdout",
     "output_type": "stream",
     "text": [
      "<class 'pandas.core.frame.DataFrame'>\n",
      "Int64Index: 896 entries, 0 to 98\n",
      "Data columns (total 39 columns):\n",
      " #   Column  Non-Null Count  Dtype  \n",
      "---  ------  --------------  -----  \n",
      " 0   ?       896 non-null    object \n",
      " 1   C       896 non-null    object \n",
      " 2   A       896 non-null    object \n",
      " 3   08      896 non-null    float64\n",
      " 4   00      896 non-null    int64  \n",
      " 5   ?.1     896 non-null    object \n",
      " 6   S       896 non-null    object \n",
      " 7   ?.2     896 non-null    object \n",
      " 8   000     896 non-null    int64  \n",
      " 9   ?.3     896 non-null    object \n",
      " 10  ?.4     896 non-null    object \n",
      " 11  G       896 non-null    object \n",
      " 12  ?.5     896 non-null    object \n",
      " 13  ?.6     896 non-null    object \n",
      " 14  ?.7     896 non-null    object \n",
      " 15  ?.8     896 non-null    object \n",
      " 16  ?.9     896 non-null    object \n",
      " 17  ?.10    896 non-null    object \n",
      " 18  ?.11    896 non-null    object \n",
      " 19  ?.12    896 non-null    object \n",
      " 20  ?.13    896 non-null    object \n",
      " 21  ?.14    896 non-null    object \n",
      " 22  ?.15    896 non-null    object \n",
      " 23  ?.16    896 non-null    object \n",
      " 24  ?.17    896 non-null    object \n",
      " 25  ?.18    896 non-null    object \n",
      " 26  ?.19    896 non-null    object \n",
      " 27  ?.20    896 non-null    object \n",
      " 28  ?.21    896 non-null    object \n",
      " 29  ?.22    896 non-null    object \n",
      " 30  ?.23    896 non-null    object \n",
      " 31  COIL    896 non-null    object \n",
      " 32  0.700   896 non-null    float64\n",
      " 33  0610.0  896 non-null    float64\n",
      " 34  0000    896 non-null    int64  \n",
      " 35  ?.24    896 non-null    object \n",
      " 36  0000.1  896 non-null    int64  \n",
      " 37  ?.25    896 non-null    object \n",
      " 38  3       896 non-null    object \n",
      "dtypes: float64(3), int64(4), object(32)\n",
      "memory usage: 280.0+ KB\n"
     ]
    }
   ],
   "source": [
    "# Now what is required is to remove last three (autogenerated columns) and indexing (which is incorrect as merging datasets merged that too)\n",
    "df = df.iloc[:,:-3]\n",
    "df.info()"
   ]
  },
  {
   "cell_type": "code",
   "execution_count": 98,
   "metadata": {},
   "outputs": [
    {
     "name": "stdout",
     "output_type": "stream",
     "text": [
      "Index(['family', 'product-type', 'steel', 'carbon', 'hardness',\n",
      "       'temper_rolling', 'condition', 'formability', 'strength', 'non-ageing',\n",
      "       'surface-finish', 'surface-quality', 'enamelability', 'bc', 'bf', 'bt',\n",
      "       'bw/me', 'bl', 'm', 'chrom', 'phos', 'cbond', 'marvi', 'exptl', 'ferro',\n",
      "       'corr', 'blue/bright/varn/clean', 'lustre', 'jurofm', 's', 'p', 'shape',\n",
      "       'thick', 'width', 'len', 'oil', 'bore', 'packing', 'classes'],\n",
      "      dtype='object')\n",
      "<class 'pandas.core.frame.DataFrame'>\n",
      "Int64Index: 896 entries, 0 to 98\n",
      "Data columns (total 39 columns):\n",
      " #   Column                  Non-Null Count  Dtype  \n",
      "---  ------                  --------------  -----  \n",
      " 0   family                  896 non-null    object \n",
      " 1   product-type            896 non-null    object \n",
      " 2   steel                   896 non-null    object \n",
      " 3   carbon                  896 non-null    float64\n",
      " 4   hardness                896 non-null    int64  \n",
      " 5   temper_rolling          896 non-null    object \n",
      " 6   condition               896 non-null    object \n",
      " 7   formability             896 non-null    object \n",
      " 8   strength                896 non-null    int64  \n",
      " 9   non-ageing              896 non-null    object \n",
      " 10  surface-finish          896 non-null    object \n",
      " 11  surface-quality         896 non-null    object \n",
      " 12  enamelability           896 non-null    object \n",
      " 13  bc                      896 non-null    object \n",
      " 14  bf                      896 non-null    object \n",
      " 15  bt                      896 non-null    object \n",
      " 16  bw/me                   896 non-null    object \n",
      " 17  bl                      896 non-null    object \n",
      " 18  m                       896 non-null    object \n",
      " 19  chrom                   896 non-null    object \n",
      " 20  phos                    896 non-null    object \n",
      " 21  cbond                   896 non-null    object \n",
      " 22  marvi                   896 non-null    object \n",
      " 23  exptl                   896 non-null    object \n",
      " 24  ferro                   896 non-null    object \n",
      " 25  corr                    896 non-null    object \n",
      " 26  blue/bright/varn/clean  896 non-null    object \n",
      " 27  lustre                  896 non-null    object \n",
      " 28  jurofm                  896 non-null    object \n",
      " 29  s                       896 non-null    object \n",
      " 30  p                       896 non-null    object \n",
      " 31  shape                   896 non-null    object \n",
      " 32  thick                   896 non-null    float64\n",
      " 33  width                   896 non-null    float64\n",
      " 34  len                     896 non-null    int64  \n",
      " 35  oil                     896 non-null    object \n",
      " 36  bore                    896 non-null    int64  \n",
      " 37  packing                 896 non-null    object \n",
      " 38  classes                 896 non-null    object \n",
      "dtypes: float64(3), int64(4), object(32)\n",
      "memory usage: 280.0+ KB\n"
     ]
    }
   ],
   "source": [
    "# Now that is sorted, let's add column names\n",
    "df.columns = columns\n",
    "print(df.columns)\n",
    "df.info()"
   ]
  },
  {
   "cell_type": "code",
   "execution_count": 101,
   "metadata": {},
   "outputs": [],
   "source": [
    "# Let's save this dataset for future work in csv file (without index)\n",
    "df.to_csv('annealing_complete.csv', index=False)"
   ]
  },
  {
   "cell_type": "markdown",
   "metadata": {},
   "source": [
    "#### Checking if the file has been saved or not\n",
    ">`!ls annealing_complete.csv -lha # sh command that only works in jupyter`\n",
    "```Python\n",
    "import os\n",
    "os.path.isfile('annealing_complete.csv')\n",
    "```\n",
    "\n",
    "find python code [here](https://linuxize.com/post/python-check-if-file-exists/) for command above"
   ]
  },
  {
   "cell_type": "code",
   "execution_count": 106,
   "metadata": {},
   "outputs": [
    {
     "data": {
      "text/plain": [
       "True"
      ]
     },
     "execution_count": 106,
     "metadata": {},
     "output_type": "execute_result"
    }
   ],
   "source": [
    "import os\n",
    "os.path.isfile('annealing_complete.csv')"
   ]
  },
  {
   "cell_type": "markdown",
   "metadata": {},
   "source": [
    "### <b>Preprocessing (using Pandas)\n",
    "Now we know that there are too many '?' there in dataset so let's see which column has how many and after that we can decide if we really need to keep that column"
   ]
  },
  {
   "cell_type": "code",
   "execution_count": 107,
   "metadata": {},
   "outputs": [
    {
     "data": {
      "text/plain": [
       "family                    770\n",
       "product-type                0\n",
       "steel                      86\n",
       "carbon                      0\n",
       "hardness                    0\n",
       "temper_rolling            759\n",
       "condition                 303\n",
       "formability               316\n",
       "strength                    0\n",
       "non-ageing                791\n",
       "surface-finish            887\n",
       "surface-quality           244\n",
       "enamelability             880\n",
       "bc                        895\n",
       "bf                        767\n",
       "bt                        822\n",
       "bw/me                     685\n",
       "bl                        747\n",
       "m                         896\n",
       "chrom                     870\n",
       "phos                      889\n",
       "cbond                     822\n",
       "marvi                     896\n",
       "exptl                     894\n",
       "ferro                     866\n",
       "corr                      896\n",
       "blue/bright/varn/clean    890\n",
       "lustre                    845\n",
       "jurofm                    896\n",
       "s                         896\n",
       "p                         896\n",
       "shape                       0\n",
       "thick                       0\n",
       "width                       0\n",
       "len                         0\n",
       "oil                       832\n",
       "bore                        0\n",
       "packing                   887\n",
       "classes                     0\n",
       "dtype: int64"
      ]
     },
     "execution_count": 107,
     "metadata": {},
     "output_type": "execute_result"
    }
   ],
   "source": [
    "df.isin(['?']).sum(axis=0)"
   ]
  },
  {
   "cell_type": "markdown",
   "metadata": {},
   "source": [
    "Columns that have over 20% of '?' have too many of them that means they would not be good indicator in deciding our class in target column (y) here last column, because whatever the value these missing values would be replaced we are going to fit our dataset with incorrect or wrong values and this will inversely affect our model, so let's get rid of them now!"
   ]
  },
  {
   "cell_type": "code",
   "execution_count": 108,
   "metadata": {},
   "outputs": [
    {
     "data": {
      "text/plain": [
       "product-type     0\n",
       "steel           86\n",
       "carbon           0\n",
       "hardness         0\n",
       "strength         0\n",
       "shape            0\n",
       "thick            0\n",
       "width            0\n",
       "len              0\n",
       "bore             0\n",
       "classes          0\n",
       "dtype: int64"
      ]
     },
     "execution_count": 108,
     "metadata": {},
     "output_type": "execute_result"
    }
   ],
   "source": [
    "# Also let's use the other variable name that is already in memory and is not doing anything good, so that if we mess things up\n",
    "# we can easily recover our data from the 'df' dataset\n",
    "dt = df.loc[:, df.isin([\"?\"]).sum()<len(df)*.20]\n",
    "dt.isin(['?']).sum(axis=0)"
   ]
  },
  {
   "cell_type": "code",
   "execution_count": 113,
   "metadata": {},
   "outputs": [
    {
     "data": {
      "text/plain": [
       "array(['E', 'G', 'D', 'F', '?'], dtype=object)"
      ]
     },
     "execution_count": 113,
     "metadata": {},
     "output_type": "execute_result"
    }
   ],
   "source": [
    "df['surface-quality'].unique()"
   ]
  },
  {
   "cell_type": "markdown",
   "metadata": {},
   "source": [
    "```Python\n",
    "# let's find out highest reoccuring value in the colum and how many times it comes\n",
    "# df.loc['surface-quality'].mode() # does not work\n",
    "# df['surface-quality'].value_counts().argmax() # does not work\n",
    "# n = 10\n",
    "# df['surface-quality'].value_counts()[:n].index.tolist()\n",
    "# df['surface-quality'].value_counts()[:5].sort_values(ascending=False) # lists first five most recurring values\n",
    "# df['surface-quality'].mode() # finds only the most frequent occouring one\n",
    "# df['surface-quality'].value_counts().idxmax() # same job as above\n",
    "df['surface-quality'].value_counts().head() # also fine\n",
    "df['surface-quality'].value_counts().nlargest(n)\n",
    "df['surface-quality'].value_counts()\n",
    "```\n",
    "get codes above [here](https://stackoverflow.com/questions/48590268/pandas-get-the-most-frequent-values-of-a-column#48590361)"
   ]
  },
  {
   "cell_type": "code",
   "execution_count": 145,
   "metadata": {},
   "outputs": [
    {
     "data": {
      "text/plain": [
       "E    310\n",
       "?    244\n",
       "G    228\n",
       "F     60\n",
       "D     54\n",
       "Name: surface-quality, dtype: int64"
      ]
     },
     "execution_count": 145,
     "metadata": {},
     "output_type": "execute_result"
    }
   ],
   "source": [
    "df['surface-quality'].value_counts()"
   ]
  },
  {
   "cell_type": "markdown",
   "metadata": {},
   "source": [
    "Now I know that most frequent occurance is that of 'E' and that only is 26% more than the missing values, so it is best to ignore this column since such a large number of values can be replaced/imputed by any means correctly"
   ]
  },
  {
   "cell_type": "code",
   "execution_count": 143,
   "metadata": {},
   "outputs": [
    {
     "name": "stdout",
     "output_type": "stream",
     "text": [
      "<class 'pandas.core.frame.DataFrame'>\n",
      "Int64Index: 896 entries, 0 to 98\n",
      "Data columns (total 11 columns):\n",
      " #   Column        Non-Null Count  Dtype  \n",
      "---  ------        --------------  -----  \n",
      " 0   product-type  896 non-null    object \n",
      " 1   steel         896 non-null    object \n",
      " 2   carbon        896 non-null    float64\n",
      " 3   hardness      896 non-null    int64  \n",
      " 4   strength      896 non-null    int64  \n",
      " 5   shape         896 non-null    object \n",
      " 6   thick         896 non-null    float64\n",
      " 7   width         896 non-null    float64\n",
      " 8   len           896 non-null    int64  \n",
      " 9   bore          896 non-null    int64  \n",
      " 10  classes       896 non-null    object \n",
      "dtypes: float64(3), int64(4), object(4)\n",
      "memory usage: 124.0+ KB\n"
     ]
    }
   ],
   "source": [
    "# summary of our dataset again\n",
    "dt.info()"
   ]
  },
  {
   "cell_type": "markdown",
   "metadata": {},
   "source": [
    "Inspecting other columns recucsively I found that first column has only one value, that means it would not affect classification, so let's drop this column as well.\n",
    "```Python\n",
    "df['product-type'].value_counts()\n",
    "```"
   ]
  },
  {
   "cell_type": "code",
   "execution_count": 157,
   "metadata": {},
   "outputs": [
    {
     "data": {
      "text/plain": [
       "C    896\n",
       "Name: product-type, dtype: int64"
      ]
     },
     "execution_count": 157,
     "metadata": {},
     "output_type": "execute_result"
    }
   ],
   "source": [
    "df['product-type'].value_counts()"
   ]
  },
  {
   "cell_type": "code",
   "execution_count": 160,
   "metadata": {},
   "outputs": [],
   "source": [
    "dt = dt.iloc[:,1:]"
   ]
  },
  {
   "cell_type": "code",
   "execution_count": 161,
   "metadata": {},
   "outputs": [
    {
     "data": {
      "text/html": [
       "<div>\n",
       "<style scoped>\n",
       "    .dataframe tbody tr th:only-of-type {\n",
       "        vertical-align: middle;\n",
       "    }\n",
       "\n",
       "    .dataframe tbody tr th {\n",
       "        vertical-align: top;\n",
       "    }\n",
       "\n",
       "    .dataframe thead th {\n",
       "        text-align: right;\n",
       "    }\n",
       "</style>\n",
       "<table border=\"1\" class=\"dataframe\">\n",
       "  <thead>\n",
       "    <tr style=\"text-align: right;\">\n",
       "      <th></th>\n",
       "      <th>steel</th>\n",
       "      <th>carbon</th>\n",
       "      <th>hardness</th>\n",
       "      <th>strength</th>\n",
       "      <th>shape</th>\n",
       "      <th>thick</th>\n",
       "      <th>width</th>\n",
       "      <th>len</th>\n",
       "      <th>bore</th>\n",
       "      <th>classes</th>\n",
       "    </tr>\n",
       "  </thead>\n",
       "  <tbody>\n",
       "    <tr>\n",
       "      <th>0</th>\n",
       "      <td>R</td>\n",
       "      <td>0.0</td>\n",
       "      <td>0</td>\n",
       "      <td>0</td>\n",
       "      <td>COIL</td>\n",
       "      <td>3.200</td>\n",
       "      <td>610.0</td>\n",
       "      <td>0</td>\n",
       "      <td>0</td>\n",
       "      <td>3</td>\n",
       "    </tr>\n",
       "    <tr>\n",
       "      <th>1</th>\n",
       "      <td>R</td>\n",
       "      <td>0.0</td>\n",
       "      <td>0</td>\n",
       "      <td>0</td>\n",
       "      <td>SHEET</td>\n",
       "      <td>0.700</td>\n",
       "      <td>1300.0</td>\n",
       "      <td>762</td>\n",
       "      <td>0</td>\n",
       "      <td>3</td>\n",
       "    </tr>\n",
       "    <tr>\n",
       "      <th>2</th>\n",
       "      <td>A</td>\n",
       "      <td>0.0</td>\n",
       "      <td>60</td>\n",
       "      <td>0</td>\n",
       "      <td>COIL</td>\n",
       "      <td>2.801</td>\n",
       "      <td>385.1</td>\n",
       "      <td>0</td>\n",
       "      <td>0</td>\n",
       "      <td>3</td>\n",
       "    </tr>\n",
       "    <tr>\n",
       "      <th>3</th>\n",
       "      <td>A</td>\n",
       "      <td>0.0</td>\n",
       "      <td>60</td>\n",
       "      <td>0</td>\n",
       "      <td>SHEET</td>\n",
       "      <td>0.801</td>\n",
       "      <td>255.0</td>\n",
       "      <td>269</td>\n",
       "      <td>0</td>\n",
       "      <td>3</td>\n",
       "    </tr>\n",
       "    <tr>\n",
       "      <th>4</th>\n",
       "      <td>A</td>\n",
       "      <td>0.0</td>\n",
       "      <td>45</td>\n",
       "      <td>0</td>\n",
       "      <td>COIL</td>\n",
       "      <td>1.600</td>\n",
       "      <td>610.0</td>\n",
       "      <td>0</td>\n",
       "      <td>0</td>\n",
       "      <td>3</td>\n",
       "    </tr>\n",
       "    <tr>\n",
       "      <th>...</th>\n",
       "      <td>...</td>\n",
       "      <td>...</td>\n",
       "      <td>...</td>\n",
       "      <td>...</td>\n",
       "      <td>...</td>\n",
       "      <td>...</td>\n",
       "      <td>...</td>\n",
       "      <td>...</td>\n",
       "      <td>...</td>\n",
       "      <td>...</td>\n",
       "    </tr>\n",
       "    <tr>\n",
       "      <th>94</th>\n",
       "      <td>R</td>\n",
       "      <td>0.0</td>\n",
       "      <td>0</td>\n",
       "      <td>0</td>\n",
       "      <td>SHEET</td>\n",
       "      <td>1.599</td>\n",
       "      <td>610.0</td>\n",
       "      <td>762</td>\n",
       "      <td>0</td>\n",
       "      <td>2</td>\n",
       "    </tr>\n",
       "    <tr>\n",
       "      <th>95</th>\n",
       "      <td>R</td>\n",
       "      <td>0.0</td>\n",
       "      <td>0</td>\n",
       "      <td>0</td>\n",
       "      <td>SHEET</td>\n",
       "      <td>1.601</td>\n",
       "      <td>830.0</td>\n",
       "      <td>880</td>\n",
       "      <td>0</td>\n",
       "      <td>2</td>\n",
       "    </tr>\n",
       "    <tr>\n",
       "      <th>96</th>\n",
       "      <td>V</td>\n",
       "      <td>0.0</td>\n",
       "      <td>0</td>\n",
       "      <td>0</td>\n",
       "      <td>SHEET</td>\n",
       "      <td>1.599</td>\n",
       "      <td>150.0</td>\n",
       "      <td>762</td>\n",
       "      <td>0</td>\n",
       "      <td>2</td>\n",
       "    </tr>\n",
       "    <tr>\n",
       "      <th>97</th>\n",
       "      <td>A</td>\n",
       "      <td>0.0</td>\n",
       "      <td>0</td>\n",
       "      <td>0</td>\n",
       "      <td>COIL</td>\n",
       "      <td>0.400</td>\n",
       "      <td>20.0</td>\n",
       "      <td>0</td>\n",
       "      <td>0</td>\n",
       "      <td>U</td>\n",
       "    </tr>\n",
       "    <tr>\n",
       "      <th>98</th>\n",
       "      <td>A</td>\n",
       "      <td>0.0</td>\n",
       "      <td>0</td>\n",
       "      <td>0</td>\n",
       "      <td>COIL</td>\n",
       "      <td>4.000</td>\n",
       "      <td>610.0</td>\n",
       "      <td>0</td>\n",
       "      <td>500</td>\n",
       "      <td>U</td>\n",
       "    </tr>\n",
       "  </tbody>\n",
       "</table>\n",
       "<p>896 rows × 10 columns</p>\n",
       "</div>"
      ],
      "text/plain": [
       "   steel  carbon  hardness  strength  shape  thick   width  len  bore classes\n",
       "0      R     0.0         0         0   COIL  3.200   610.0    0     0       3\n",
       "1      R     0.0         0         0  SHEET  0.700  1300.0  762     0       3\n",
       "2      A     0.0        60         0   COIL  2.801   385.1    0     0       3\n",
       "3      A     0.0        60         0  SHEET  0.801   255.0  269     0       3\n",
       "4      A     0.0        45         0   COIL  1.600   610.0    0     0       3\n",
       "..   ...     ...       ...       ...    ...    ...     ...  ...   ...     ...\n",
       "94     R     0.0         0         0  SHEET  1.599   610.0  762     0       2\n",
       "95     R     0.0         0         0  SHEET  1.601   830.0  880     0       2\n",
       "96     V     0.0         0         0  SHEET  1.599   150.0  762     0       2\n",
       "97     A     0.0         0         0   COIL  0.400    20.0    0     0       U\n",
       "98     A     0.0         0         0   COIL  4.000   610.0    0   500       U\n",
       "\n",
       "[896 rows x 10 columns]"
      ]
     },
     "execution_count": 161,
     "metadata": {},
     "output_type": "execute_result"
    }
   ],
   "source": [
    "dt"
   ]
  },
  {
   "cell_type": "code",
   "execution_count": 162,
   "metadata": {},
   "outputs": [],
   "source": [
    "# just like product type let's remove all other columsn that have only one value (either categorical or numerical)\n",
    "# first let's find out which column has only zeros or other single value"
   ]
  },
  {
   "cell_type": "code",
   "execution_count": 164,
   "metadata": {},
   "outputs": [
    {
     "data": {
      "text/plain": [
       "steel         0\n",
       "carbon      820\n",
       "hardness    729\n",
       "strength    832\n",
       "shape         0\n",
       "thick         0\n",
       "width         2\n",
       "len         415\n",
       "bore        852\n",
       "classes       0\n",
       "dtype: int64"
      ]
     },
     "execution_count": 164,
     "metadata": {},
     "output_type": "execute_result"
    }
   ],
   "source": [
    "dt.isin([0]).sum(axis=0)"
   ]
  },
  {
   "cell_type": "code",
   "execution_count": 165,
   "metadata": {},
   "outputs": [
    {
     "data": {
      "text/plain": [
       "array([  0, 500, 600])"
      ]
     },
     "execution_count": 165,
     "metadata": {},
     "output_type": "execute_result"
    }
   ],
   "source": [
    "# let's test what bore has\n",
    "dt.bore.unique()"
   ]
  },
  {
   "cell_type": "code",
   "execution_count": 172,
   "metadata": {},
   "outputs": [
    {
     "data": {
      "text/plain": [
       "0      852\n",
       "600     33\n",
       "500     11\n",
       "Name: bore, dtype: int64"
      ]
     },
     "execution_count": 172,
     "metadata": {},
     "output_type": "execute_result"
    }
   ],
   "source": [
    "# let's count how many of each of these values the column has\n",
    "dt['bore'].value_counts()"
   ]
  },
  {
   "cell_type": "code",
   "execution_count": 174,
   "metadata": {},
   "outputs": [
    {
     "data": {
      "text/plain": [
       "Index(['steel', 'carbon', 'hardness', 'strength', 'shape', 'thick', 'width',\n",
       "       'len', 'bore', 'classes'],\n",
       "      dtype='object')"
      ]
     },
     "execution_count": 174,
     "metadata": {},
     "output_type": "execute_result"
    }
   ],
   "source": [
    "# this means this is, although numerical data, categorical data. Let's find out what other columns have categorical data.\n",
    "dt.columns"
   ]
  },
  {
   "cell_type": "code",
   "execution_count": 178,
   "metadata": {},
   "outputs": [
    {
     "data": {
      "text/plain": [
       "0     729\n",
       "45     57\n",
       "50     31\n",
       "85     30\n",
       "60     23\n",
       "70     18\n",
       "80      4\n",
       "55      2\n",
       "65      1\n",
       "8       1\n",
       "Name: hardness, dtype: int64"
      ]
     },
     "execution_count": 178,
     "metadata": {},
     "output_type": "execute_result"
    }
   ],
   "source": [
    "# dt.steel.value_counts() # STEEL\n",
    "# dt.carbon.value_counts() # ?\n",
    "dt.hardness.value_counts()"
   ]
  },
  {
   "cell_type": "markdown",
   "metadata": {},
   "source": [
    "#### By looking at the results above I am going to treat discrete values as \"it-is\" so, only categorical data will be treated as categorical data now"
   ]
  },
  {
   "cell_type": "code",
   "execution_count": 179,
   "metadata": {},
   "outputs": [
    {
     "name": "stdout",
     "output_type": "stream",
     "text": [
      "<class 'pandas.core.frame.DataFrame'>\n",
      "Int64Index: 896 entries, 0 to 98\n",
      "Data columns (total 10 columns):\n",
      " #   Column    Non-Null Count  Dtype  \n",
      "---  ------    --------------  -----  \n",
      " 0   steel     896 non-null    object \n",
      " 1   carbon    896 non-null    float64\n",
      " 2   hardness  896 non-null    int64  \n",
      " 3   strength  896 non-null    int64  \n",
      " 4   shape     896 non-null    object \n",
      " 5   thick     896 non-null    float64\n",
      " 6   width     896 non-null    float64\n",
      " 7   len       896 non-null    int64  \n",
      " 8   bore      896 non-null    int64  \n",
      " 9   classes   896 non-null    object \n",
      "dtypes: float64(3), int64(4), object(3)\n",
      "memory usage: 117.0+ KB\n"
     ]
    }
   ],
   "source": [
    "dt.info()"
   ]
  },
  {
   "cell_type": "code",
   "execution_count": 180,
   "metadata": {},
   "outputs": [
    {
     "data": {
      "text/plain": [
       "(896, 39)"
      ]
     },
     "execution_count": 180,
     "metadata": {},
     "output_type": "execute_result"
    }
   ],
   "source": [
    "df.shape"
   ]
  },
  {
   "cell_type": "code",
   "execution_count": 181,
   "metadata": {},
   "outputs": [
    {
     "data": {
      "text/plain": [
       "(896, 10)"
      ]
     },
     "execution_count": 181,
     "metadata": {},
     "output_type": "execute_result"
    }
   ],
   "source": [
    "# Let's first store dt into df so that we can restore dt if needed later\n",
    "df = cp.deepcopy(dt)\n",
    "df.shape"
   ]
  },
  {
   "cell_type": "code",
   "execution_count": 183,
   "metadata": {},
   "outputs": [],
   "source": [
    "dfX = df.iloc[:,:-1]\n",
    "dfy = df.iloc[:,-1]"
   ]
  },
  {
   "cell_type": "code",
   "execution_count": 184,
   "metadata": {},
   "outputs": [
    {
     "data": {
      "text/html": [
       "<div>\n",
       "<style scoped>\n",
       "    .dataframe tbody tr th:only-of-type {\n",
       "        vertical-align: middle;\n",
       "    }\n",
       "\n",
       "    .dataframe tbody tr th {\n",
       "        vertical-align: top;\n",
       "    }\n",
       "\n",
       "    .dataframe thead th {\n",
       "        text-align: right;\n",
       "    }\n",
       "</style>\n",
       "<table border=\"1\" class=\"dataframe\">\n",
       "  <thead>\n",
       "    <tr style=\"text-align: right;\">\n",
       "      <th></th>\n",
       "      <th>steel</th>\n",
       "      <th>shape</th>\n",
       "    </tr>\n",
       "  </thead>\n",
       "  <tbody>\n",
       "    <tr>\n",
       "      <th>0</th>\n",
       "      <td>R</td>\n",
       "      <td>COIL</td>\n",
       "    </tr>\n",
       "    <tr>\n",
       "      <th>1</th>\n",
       "      <td>R</td>\n",
       "      <td>SHEET</td>\n",
       "    </tr>\n",
       "    <tr>\n",
       "      <th>2</th>\n",
       "      <td>A</td>\n",
       "      <td>COIL</td>\n",
       "    </tr>\n",
       "    <tr>\n",
       "      <th>3</th>\n",
       "      <td>A</td>\n",
       "      <td>SHEET</td>\n",
       "    </tr>\n",
       "    <tr>\n",
       "      <th>4</th>\n",
       "      <td>A</td>\n",
       "      <td>COIL</td>\n",
       "    </tr>\n",
       "    <tr>\n",
       "      <th>...</th>\n",
       "      <td>...</td>\n",
       "      <td>...</td>\n",
       "    </tr>\n",
       "    <tr>\n",
       "      <th>94</th>\n",
       "      <td>R</td>\n",
       "      <td>SHEET</td>\n",
       "    </tr>\n",
       "    <tr>\n",
       "      <th>95</th>\n",
       "      <td>R</td>\n",
       "      <td>SHEET</td>\n",
       "    </tr>\n",
       "    <tr>\n",
       "      <th>96</th>\n",
       "      <td>V</td>\n",
       "      <td>SHEET</td>\n",
       "    </tr>\n",
       "    <tr>\n",
       "      <th>97</th>\n",
       "      <td>A</td>\n",
       "      <td>COIL</td>\n",
       "    </tr>\n",
       "    <tr>\n",
       "      <th>98</th>\n",
       "      <td>A</td>\n",
       "      <td>COIL</td>\n",
       "    </tr>\n",
       "  </tbody>\n",
       "</table>\n",
       "<p>896 rows × 2 columns</p>\n",
       "</div>"
      ],
      "text/plain": [
       "   steel  shape\n",
       "0      R   COIL\n",
       "1      R  SHEET\n",
       "2      A   COIL\n",
       "3      A  SHEET\n",
       "4      A   COIL\n",
       "..   ...    ...\n",
       "94     R  SHEET\n",
       "95     R  SHEET\n",
       "96     V  SHEET\n",
       "97     A   COIL\n",
       "98     A   COIL\n",
       "\n",
       "[896 rows x 2 columns]"
      ]
     },
     "execution_count": 184,
     "metadata": {},
     "output_type": "execute_result"
    }
   ],
   "source": [
    "# Let's separate categorical featrues from numerical features and let's create new variables so that we can return here if things get messedup\n",
    "kat_dfX = dfX.iloc[:,[0,4]]\n",
    "kat_dfX"
   ]
  },
  {
   "cell_type": "code",
   "execution_count": 186,
   "metadata": {},
   "outputs": [
    {
     "data": {
      "text/html": [
       "<div>\n",
       "<style scoped>\n",
       "    .dataframe tbody tr th:only-of-type {\n",
       "        vertical-align: middle;\n",
       "    }\n",
       "\n",
       "    .dataframe tbody tr th {\n",
       "        vertical-align: top;\n",
       "    }\n",
       "\n",
       "    .dataframe thead th {\n",
       "        text-align: right;\n",
       "    }\n",
       "</style>\n",
       "<table border=\"1\" class=\"dataframe\">\n",
       "  <thead>\n",
       "    <tr style=\"text-align: right;\">\n",
       "      <th></th>\n",
       "      <th>carbon</th>\n",
       "      <th>hardness</th>\n",
       "      <th>strength</th>\n",
       "      <th>thick</th>\n",
       "      <th>width</th>\n",
       "      <th>len</th>\n",
       "      <th>bore</th>\n",
       "    </tr>\n",
       "  </thead>\n",
       "  <tbody>\n",
       "    <tr>\n",
       "      <th>0</th>\n",
       "      <td>0.0</td>\n",
       "      <td>0</td>\n",
       "      <td>0</td>\n",
       "      <td>3.200</td>\n",
       "      <td>610.0</td>\n",
       "      <td>0</td>\n",
       "      <td>0</td>\n",
       "    </tr>\n",
       "    <tr>\n",
       "      <th>1</th>\n",
       "      <td>0.0</td>\n",
       "      <td>0</td>\n",
       "      <td>0</td>\n",
       "      <td>0.700</td>\n",
       "      <td>1300.0</td>\n",
       "      <td>762</td>\n",
       "      <td>0</td>\n",
       "    </tr>\n",
       "    <tr>\n",
       "      <th>2</th>\n",
       "      <td>0.0</td>\n",
       "      <td>60</td>\n",
       "      <td>0</td>\n",
       "      <td>2.801</td>\n",
       "      <td>385.1</td>\n",
       "      <td>0</td>\n",
       "      <td>0</td>\n",
       "    </tr>\n",
       "    <tr>\n",
       "      <th>3</th>\n",
       "      <td>0.0</td>\n",
       "      <td>60</td>\n",
       "      <td>0</td>\n",
       "      <td>0.801</td>\n",
       "      <td>255.0</td>\n",
       "      <td>269</td>\n",
       "      <td>0</td>\n",
       "    </tr>\n",
       "    <tr>\n",
       "      <th>4</th>\n",
       "      <td>0.0</td>\n",
       "      <td>45</td>\n",
       "      <td>0</td>\n",
       "      <td>1.600</td>\n",
       "      <td>610.0</td>\n",
       "      <td>0</td>\n",
       "      <td>0</td>\n",
       "    </tr>\n",
       "    <tr>\n",
       "      <th>...</th>\n",
       "      <td>...</td>\n",
       "      <td>...</td>\n",
       "      <td>...</td>\n",
       "      <td>...</td>\n",
       "      <td>...</td>\n",
       "      <td>...</td>\n",
       "      <td>...</td>\n",
       "    </tr>\n",
       "    <tr>\n",
       "      <th>94</th>\n",
       "      <td>0.0</td>\n",
       "      <td>0</td>\n",
       "      <td>0</td>\n",
       "      <td>1.599</td>\n",
       "      <td>610.0</td>\n",
       "      <td>762</td>\n",
       "      <td>0</td>\n",
       "    </tr>\n",
       "    <tr>\n",
       "      <th>95</th>\n",
       "      <td>0.0</td>\n",
       "      <td>0</td>\n",
       "      <td>0</td>\n",
       "      <td>1.601</td>\n",
       "      <td>830.0</td>\n",
       "      <td>880</td>\n",
       "      <td>0</td>\n",
       "    </tr>\n",
       "    <tr>\n",
       "      <th>96</th>\n",
       "      <td>0.0</td>\n",
       "      <td>0</td>\n",
       "      <td>0</td>\n",
       "      <td>1.599</td>\n",
       "      <td>150.0</td>\n",
       "      <td>762</td>\n",
       "      <td>0</td>\n",
       "    </tr>\n",
       "    <tr>\n",
       "      <th>97</th>\n",
       "      <td>0.0</td>\n",
       "      <td>0</td>\n",
       "      <td>0</td>\n",
       "      <td>0.400</td>\n",
       "      <td>20.0</td>\n",
       "      <td>0</td>\n",
       "      <td>0</td>\n",
       "    </tr>\n",
       "    <tr>\n",
       "      <th>98</th>\n",
       "      <td>0.0</td>\n",
       "      <td>0</td>\n",
       "      <td>0</td>\n",
       "      <td>4.000</td>\n",
       "      <td>610.0</td>\n",
       "      <td>0</td>\n",
       "      <td>500</td>\n",
       "    </tr>\n",
       "  </tbody>\n",
       "</table>\n",
       "<p>896 rows × 7 columns</p>\n",
       "</div>"
      ],
      "text/plain": [
       "    carbon  hardness  strength  thick   width  len  bore\n",
       "0      0.0         0         0  3.200   610.0    0     0\n",
       "1      0.0         0         0  0.700  1300.0  762     0\n",
       "2      0.0        60         0  2.801   385.1    0     0\n",
       "3      0.0        60         0  0.801   255.0  269     0\n",
       "4      0.0        45         0  1.600   610.0    0     0\n",
       "..     ...       ...       ...    ...     ...  ...   ...\n",
       "94     0.0         0         0  1.599   610.0  762     0\n",
       "95     0.0         0         0  1.601   830.0  880     0\n",
       "96     0.0         0         0  1.599   150.0  762     0\n",
       "97     0.0         0         0  0.400    20.0    0     0\n",
       "98     0.0         0         0  4.000   610.0    0   500\n",
       "\n",
       "[896 rows x 7 columns]"
      ]
     },
     "execution_count": 186,
     "metadata": {},
     "output_type": "execute_result"
    }
   ],
   "source": [
    "num_dfX = dfX.iloc[:,[1,2,3,5,6,7,8]]\n",
    "num_dfX"
   ]
  },
  {
   "cell_type": "markdown",
   "metadata": {},
   "source": [
    "## Standarizing and scaling data\n",
    "It is important since some columns have huge values and others have very small values"
   ]
  },
  {
   "cell_type": "code",
   "execution_count": 190,
   "metadata": {},
   "outputs": [
    {
     "ename": "AttributeError",
     "evalue": "'numpy.ndarray' object has no attribute 'describe'",
     "output_type": "error",
     "traceback": [
      "\u001b[0;31m---------------------------------------------------------------------------\u001b[0m",
      "\u001b[0;31mAttributeError\u001b[0m                            Traceback (most recent call last)",
      "\u001b[0;32m<ipython-input-190-0651ddad20d6>\u001b[0m in \u001b[0;36m<module>\u001b[0;34m\u001b[0m\n\u001b[1;32m      3\u001b[0m \u001b[0;34m\u001b[0m\u001b[0m\n\u001b[1;32m      4\u001b[0m \u001b[0;31m# scaled_num_dfX = sc.fit_transform(num_dfX)\u001b[0m\u001b[0;34m\u001b[0m\u001b[0;34m\u001b[0m\u001b[0;34m\u001b[0m\u001b[0m\n\u001b[0;32m----> 5\u001b[0;31m \u001b[0mscaled_num_dfX\u001b[0m\u001b[0;34m.\u001b[0m\u001b[0mdescribe\u001b[0m\u001b[0;34m(\u001b[0m\u001b[0;34m)\u001b[0m\u001b[0;34m\u001b[0m\u001b[0;34m\u001b[0m\u001b[0m\n\u001b[0m",
      "\u001b[0;31mAttributeError\u001b[0m: 'numpy.ndarray' object has no attribute 'describe'"
     ]
    }
   ],
   "source": [
    "from sklearn.preprocessing import StandardScaler\n",
    "sc = StandardScaler()\n",
    "\n",
    "scaled_num_dfX = sc.fit_transform(num_dfX)\n",
    "# scaled_num_dfX.describe() # this is a numpy array so it will does have describe feature. Only dataframes holds this function"
   ]
  },
  {
   "cell_type": "markdown",
   "metadata": {},
   "source": [
    "## One Hot Encoder and Label Encoder\n",
    "Let's transform categorical features in remaining X and y columns"
   ]
  },
  {
   "cell_type": "code",
   "execution_count": 191,
   "metadata": {},
   "outputs": [],
   "source": [
    "from sklearn.preprocessing import OneHotEncoder, LabelEncoder\n",
    "labelencoder_y = LabelEncoder()\n",
    "y = labelencoder_y.fit_transform(dfy) # I am leaving it as y because no matter what this column will not change\n",
    "from sklearn.preprocessing import OneHotEncoder\n",
    "onehotencoder = OneHotEncoder(categories='auto')\n",
    "# X will not be encoded here because I have other plans for X"
   ]
  },
  {
   "cell_type": "code",
   "execution_count": 192,
   "metadata": {},
   "outputs": [],
   "source": [
    "onc_kat_dfX = onehotencoder.fit_transform(kat_dfX).toarray()"
   ]
  },
  {
   "cell_type": "code",
   "execution_count": 207,
   "metadata": {},
   "outputs": [
    {
     "data": {
      "text/plain": [
       "(896, 10)"
      ]
     },
     "execution_count": 207,
     "metadata": {},
     "output_type": "execute_result"
    }
   ],
   "source": [
    "onc_kat_dfX.shape"
   ]
  },
  {
   "cell_type": "code",
   "execution_count": 193,
   "metadata": {},
   "outputs": [
    {
     "data": {
      "text/plain": [
       "array([[ 0.        ,  0.        ,  0.        , ..., -0.42179495,\n",
       "        -0.67642049, -0.22657674],\n",
       "       [ 0.        ,  0.        ,  0.        , ...,  1.2798437 ,\n",
       "        -0.26925824, -0.22657674],\n",
       "       [ 0.        ,  1.        ,  0.        , ..., -0.9764305 ,\n",
       "        -0.67642049, -0.22657674],\n",
       "       ...,\n",
       "       [ 0.        ,  0.        ,  0.        , ..., -1.55622071,\n",
       "        -0.26925824, -0.22657674],\n",
       "       [ 0.        ,  1.        ,  0.        , ..., -1.8768193 ,\n",
       "        -0.67642049, -0.22657674],\n",
       "       [ 0.        ,  1.        ,  0.        , ..., -0.42179495,\n",
       "        -0.67642049,  3.78553319]])"
      ]
     },
     "execution_count": 193,
     "metadata": {},
     "output_type": "execute_result"
    }
   ],
   "source": [
    "# Let's join the two newly formed Xs into one large dataframe, since these two are np.ndarray so pd.cat wil not work on it\n",
    "# \"I have to modify tactics to suit my foe\"\n",
    "X = np.concatenate((onc_kat_dfX, scaled_num_dfX), axis = 1)\n",
    "X"
   ]
  },
  {
   "cell_type": "code",
   "execution_count": 194,
   "metadata": {},
   "outputs": [
    {
     "data": {
      "text/plain": [
       "(896, 17)"
      ]
     },
     "execution_count": 194,
     "metadata": {},
     "output_type": "execute_result"
    }
   ],
   "source": [
    "X.shape"
   ]
  },
  {
   "cell_type": "code",
   "execution_count": 196,
   "metadata": {},
   "outputs": [
    {
     "ename": "AttributeError",
     "evalue": "'numpy.ndarray' object has no attribute 'describe'",
     "output_type": "error",
     "traceback": [
      "\u001b[0;31m---------------------------------------------------------------------------\u001b[0m",
      "\u001b[0;31mAttributeError\u001b[0m                            Traceback (most recent call last)",
      "\u001b[0;32m<ipython-input-196-6b51791839fc>\u001b[0m in \u001b[0;36m<module>\u001b[0;34m\u001b[0m\n\u001b[0;32m----> 1\u001b[0;31m \u001b[0mX\u001b[0m\u001b[0;34m.\u001b[0m\u001b[0mdescribe\u001b[0m\u001b[0;34m(\u001b[0m\u001b[0;34m)\u001b[0m \u001b[0;31m# So this is still np.ndarray and was not converted into dataframe, ah well...\u001b[0m\u001b[0;34m\u001b[0m\u001b[0;34m\u001b[0m\u001b[0m\n\u001b[0m",
      "\u001b[0;31mAttributeError\u001b[0m: 'numpy.ndarray' object has no attribute 'describe'"
     ]
    }
   ],
   "source": [
    "X.describe() # So this is still np.ndarray and was not converted into dataframe, ah well..."
   ]
  },
  {
   "cell_type": "markdown",
   "metadata": {},
   "source": [
    "## Test Train Split"
   ]
  },
  {
   "cell_type": "code",
   "execution_count": 208,
   "metadata": {},
   "outputs": [],
   "source": [
    "# Splitting the dataset into the Training set and Test set\n",
    "from sklearn.model_selection import train_test_split\n",
    "X_train, X_test, y_train, y_test = train_test_split(X, y, test_size = 0.2, random_state = 0, stratify=y)\n",
    "# let's not forget other Xs\n",
    "X_train_kat_dfX, X_test_kat_dfX, y_train, y_test = train_test_split(onc_kat_dfX, y, test_size = 0.2, random_state = 0, stratify=y)\n",
    "X_train_scaled_num_dfX, X_test_scaled_num_dfX, y_train, y_test = train_test_split(scaled_num_dfX, y, test_size = 0.2, random_state = 0, stratify=y)"
   ]
  },
  {
   "cell_type": "markdown",
   "metadata": {},
   "source": [
    "## Dimentionality Reduction\n",
    "To get rid of too many and unncessary features. Since we have three values for X so we'll apply this three times, however, since kat_dfX has only two variables/features so it would not be necessary to apply on it"
   ]
  },
  {
   "cell_type": "code",
   "execution_count": 198,
   "metadata": {},
   "outputs": [],
   "source": [
    "# Let's first try all in approach with logistic regression\n",
    "from sklearn.linear_model import LogisticRegression\n",
    "log_reg_classifier = LogisticRegression(random_state = 0)"
   ]
  },
  {
   "cell_type": "code",
   "execution_count": 200,
   "metadata": {},
   "outputs": [],
   "source": [
    "log_reg_classifier.fit(X_train, y_train)\n",
    "# Predicting the Test set results\n",
    "y_pred = log_reg_classifier.predict(X_test)"
   ]
  },
  {
   "cell_type": "code",
   "execution_count": 203,
   "metadata": {},
   "outputs": [
    {
     "data": {
      "text/plain": [
       "<sklearn.metrics._plot.confusion_matrix.ConfusionMatrixDisplay at 0x7fa2aa351240>"
      ]
     },
     "execution_count": 203,
     "metadata": {},
     "output_type": "execute_result"
    },
    {
     "data": {
      "image/png": "[encoded data removed]",
      "text/plain": [
       "<Figure size 432x288 with 2 Axes>"
      ]
     },
     "metadata": {
      "needs_background": "light"
     },
     "output_type": "display_data"
    }
   ],
   "source": [
    "import sklearn\n",
    "sklearn.metrics.plot_confusion_matrix(log_reg_classifier, X_test, y_test)"
   ]
  },
  {
   "cell_type": "code",
   "execution_count": 214,
   "metadata": {},
   "outputs": [
    {
     "data": {
      "text/plain": [
       "<sklearn.metrics._plot.confusion_matrix.ConfusionMatrixDisplay at 0x7fa29aa324a8>"
      ]
     },
     "execution_count": 214,
     "metadata": {},
     "output_type": "execute_result"
    },
    {
     "data": {
      "image/png": "[encoded data removed]",
      "text/plain": [
       "<Figure size 432x288 with 2 Axes>"
      ]
     },
     "metadata": {
      "needs_background": "light"
     },
     "output_type": "display_data"
    }
   ],
   "source": [
    "# Let's see how well we could do with other two Xs (categoriacl features), first kat_dfX\n",
    "log_reg_classifier_KAT = LogisticRegression(random_state = 0)\n",
    "log_reg_classifier_KAT.fit(X_train_kat_dfX, y_train)\n",
    "# Predicting the Test set results\n",
    "y_pred = log_reg_classifier_KAT.predict(X_test_kat_dfX)\n",
    "sklearn.metrics.plot_confusion_matrix(log_reg_classifier_KAT, X_test_kat_dfX, y_test)"
   ]
  },
  {
   "cell_type": "code",
   "execution_count": 215,
   "metadata": {},
   "outputs": [
    {
     "data": {
      "text/plain": [
       "<sklearn.metrics._plot.confusion_matrix.ConfusionMatrixDisplay at 0x7fa29a8846a0>"
      ]
     },
     "execution_count": 215,
     "metadata": {},
     "output_type": "execute_result"
    },
    {
     "data": {
      "image/png": "[encoded data removed]",
      "text/plain": [
       "<Figure size 432x288 with 2 Axes>"
      ]
     },
     "metadata": {
      "needs_background": "light"
     },
     "output_type": "display_data"
    }
   ],
   "source": [
    "# Lastly try with continuous data X_train_scaled_num_dfX, X_test_scaled_num_dfX\n",
    "log_reg_classifier_scale = LogisticRegression(random_state = 0)\n",
    "log_reg_classifier_scale.fit(X_train_scaled_num_dfX, y_train)\n",
    "# Predicting the Test set results\n",
    "y_pred = log_reg_classifier_scale.predict(X_test_scaled_num_dfX)\n",
    "sklearn.metrics.plot_confusion_matrix(log_reg_classifier_scale, X_test_scaled_num_dfX, y_test)"
   ]
  },
  {
   "cell_type": "code",
   "execution_count": 225,
   "metadata": {},
   "outputs": [
    {
     "data": {
      "text/plain": [
       "(716, 7)"
      ]
     },
     "execution_count": 225,
     "metadata": {},
     "output_type": "execute_result"
    }
   ],
   "source": [
    "X_train_scaled_num_dfX.shape"
   ]
  },
  {
   "cell_type": "code",
   "execution_count": 226,
   "metadata": {},
   "outputs": [
    {
     "data": {
      "text/plain": [
       "array([0.24323523, 0.17012738, 0.15023932, 0.14160118, 0.11653325,\n",
       "       0.09438745, 0.0838762 ])"
      ]
     },
     "execution_count": 226,
     "metadata": {},
     "output_type": "execute_result"
    }
   ],
   "source": [
    "# Even though categorical features gave \"the best prediction\" however we can't be so sure withouth trying p values and r squared, let's\n",
    "# just do that, first let's try PCA on continuous/scaled data since PCA can't be used on categorical features, so it can't be used on\n",
    "# full/combined data nor on X_kat\n",
    "from sklearn.decomposition import PCA\n",
    "pca = PCA(n_components = None)\n",
    "# pca = PCA(n_components = 2)\n",
    "# pca = PCA(n_components = 4)\n",
    "X_train_scaled_num_dfX_PCA = pca.fit(X_train_scaled_num_dfX)\n",
    "# X_test = pca.transform(X_test_scaled_num_dfX)\n",
    "explained_variance = pca.explained_variance_ratio_\n",
    "explained_variance"
   ]
  },
  {
   "cell_type": "markdown",
   "metadata": {},
   "source": [
    "#### This just means that even after PCA there would be 5 (4 at least) significant variables/features that can/must be taken into consideration or describe data and variance"
   ]
  },
  {
   "cell_type": "markdown",
   "metadata": {},
   "source": [
    "#### For dimentionality reduction read a few [techniques](https://www.upgrad.com/blog/top-dimensionality-reduction-techniques-for-machine-learning/), I have used two in this notebook.\n",
    "#### <B>[NMF](https://mlexplained.com/2017/12/28/a-practical-introduction-to-nmf-nonnegative-matrix-factorization/)</B> appears to be promosing so I will try to use it in next book, perhaps, along with <B>backward elimmination."
   ]
  },
  {
   "cell_type": "code",
   "execution_count": null,
   "metadata": {},
   "outputs": [],
   "source": []
  },
  {
   "cell_type": "code",
   "execution_count": null,
   "metadata": {},
   "outputs": [],
   "source": []
  },
  {
   "cell_type": "code",
   "execution_count": 173,
   "metadata": {},
   "outputs": [],
   "source": [
    "# We have too many columns, let's find out how many do we actually need to perform classification"
   ]
  }
 ],
 "metadata": {
  "kernelspec": {
   "display_name": "Python 3",
   "language": "python",
   "name": "python3"
  },
  "language_info": {
   "codemirror_mode": {
    "name": "ipython",
    "version": 3
   },
   "file_extension": ".py",
   "mimetype": "text/x-python",
   "name": "python",
   "nbconvert_exporter": "python",
   "pygments_lexer": "ipython3",
   "version": "3.7.3"
  }
 },
 "nbformat": 4,
 "nbformat_minor": 4
}
